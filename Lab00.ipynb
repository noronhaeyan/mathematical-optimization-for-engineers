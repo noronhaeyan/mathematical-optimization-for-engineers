{
 "cells": [
  {
   "cell_type": "markdown",
   "metadata": {},
   "source": [
    "<div>\n",
    "<img src=\"figures/svtLogo.png\"/>\n",
    "</div>  \n",
    "<center><h1>Mathematical Optimization for Engineers</h1></center>\n",
    "<center><h2>Lab 0</h2></center>\n",
    "<center><h3>Introduction to Python with Jupyter Notebooks</h3></center>"
   ]
  },
  {
   "cell_type": "markdown",
   "metadata": {},
   "source": [
    "We will use Python in Jupyter notebooks for lab-work. For those who are not familiar with Python, this lab exercise should make you familiar with the commands we need in class. The most important libraries that we'll use are numpy, scipy and autograd. \n",
    "\n",
    "This short introduction is not meant to be comprehensive, but shows the most frequently used commands.\n",
    "\n",
    "As general advice, if you get stuck at some point with the syntax, simply look it up online :-)"
   ]
  },
  {
   "cell_type": "markdown",
   "metadata": {},
   "source": [
    "A Jupyter notebook contains cells which can have code. This code can be executed by running the cell (press Shift+Enter together). The output is then shown below the cell."
   ]
  },
  {
   "cell_type": "code",
   "execution_count": null,
   "metadata": {},
   "outputs": [],
   "source": [
    "print('Hello world!')"
   ]
  },
  {
   "cell_type": "markdown",
   "metadata": {},
   "source": [
    "Basic operations such as additon, multiplication etc. are part of standard python. We do not need any external libraries for them. "
   ]
  },
  {
   "cell_type": "code",
   "execution_count": null,
   "metadata": {},
   "outputs": [],
   "source": [
    "a = 1 + 2\n",
    "b = 10 / 2\n",
    "\n",
    "# anything following # is a comment\n",
    "# the power operator is **\n",
    "c = 2 ** 3 "
   ]
  },
  {
   "cell_type": "markdown",
   "metadata": {},
   "source": [
    "By using the print command, we can show the value of the variable"
   ]
  },
  {
   "cell_type": "code",
   "execution_count": null,
   "metadata": {},
   "outputs": [],
   "source": [
    "print(a)\n",
    "print(b)\n",
    "# We can also combine strings and numeric output\n",
    "print('The variable, a, has the value: ', a)\n",
    "print('a/b is ', a/b)"
   ]
  },
  {
   "cell_type": "markdown",
   "metadata": {},
   "source": [
    "## Basic loops and conditions "
   ]
  },
  {
   "cell_type": "code",
   "execution_count": null,
   "metadata": {},
   "outputs": [],
   "source": [
    "# loops\n",
    "for i in range(0,10):\n",
    "    print(i)\n",
    "# very important: Python is 0-indexed\n",
    "\n",
    "# if - else if - else condition\n",
    "myValue = 1\n",
    "if (myValue<2):\n",
    "    print(\"myValue is\", myValue)\n",
    "elif (myValue>3):\n",
    "    print(\"myValue is greater than 3\")\n",
    "else:\n",
    "    print(\"or it is completely different\")"
   ]
  },
  {
   "cell_type": "markdown",
   "metadata": {},
   "source": [
    "## Importing packages"
   ]
  },
  {
   "cell_type": "markdown",
   "metadata": {},
   "source": [
    "Most python code uses some external functions which need to be imported. It is recommended to do this at the top of the file to have an overview of the used packages. \n"
   ]
  },
  {
   "cell_type": "code",
   "execution_count": null,
   "metadata": {},
   "outputs": [],
   "source": [
    "import numpy as np\n",
    "from scipy import optimize as sp\n",
    "import autograd"
   ]
  },
  {
   "cell_type": "markdown",
   "metadata": {},
   "source": [
    "## Functions"
   ]
  },
  {
   "cell_type": "markdown",
   "metadata": {},
   "source": [
    "Functions are defined by the keyword <i>def</i> and can have return values"
   ]
  },
  {
   "cell_type": "code",
   "execution_count": null,
   "metadata": {},
   "outputs": [],
   "source": [
    "# this function is called 'myFunction'\n",
    "# it takes one input, x\n",
    "# and returns y and z\n",
    "def myFunction(x):\n",
    "    y = x ** 2 - 2\n",
    "    z = y + 2\n",
    "    return y, z"
   ]
  },
  {
   "cell_type": "code",
   "execution_count": null,
   "metadata": {},
   "outputs": [],
   "source": [
    "x = 2\n",
    "\n",
    "# function call\n",
    "myY, myZ = myFunction(x)\n",
    "\n",
    "print(\"{:.2f}, {:.2f}\".format(myY, myZ))"
   ]
  },
  {
   "cell_type": "code",
   "execution_count": null,
   "metadata": {},
   "outputs": [],
   "source": [
    "def parametricFunction(x, p): \n",
    "    y = p*x ** 2\n",
    "    return y"
   ]
  },
  {
   "cell_type": "code",
   "execution_count": null,
   "metadata": {},
   "outputs": [],
   "source": [
    "myY = parametricFunction(2, 4.5)\n",
    "print(myY)"
   ]
  },
  {
   "cell_type": "markdown",
   "metadata": {},
   "source": [
    "## Arrays and lists"
   ]
  },
  {
   "cell_type": "markdown",
   "metadata": {},
   "source": [
    "Arrays and lists are often used in the course. Numpy arrays can be used like vectors and matrices; lists can contain all kinds of data."
   ]
  },
  {
   "cell_type": "code",
   "execution_count": null,
   "metadata": {},
   "outputs": [],
   "source": [
    "# example for numpy arrary\n",
    "array0 = np.array([1,2,3,4])\n",
    "array1 = np.array([3,2,0,0])\n",
    "\n",
    "myList = []\n",
    "myList.append(array0)\n",
    "myList.append(array1)\n",
    "print(myList)\n",
    "\n",
    "# very important: Python is 0-indexed\n",
    "print(myList[1])\n",
    "\n",
    "Matrix = np.array([[1, 2], [3, 4]])\n",
    "Vector = np.array([1, 2])\n",
    "\n",
    "# matrix-vector product\n",
    "sol = np.dot(Matrix, Vector)\n",
    "\n",
    "print(sol)"
   ]
  },
  {
   "cell_type": "markdown",
   "metadata": {},
   "source": [
    "## Gradients and Hessians"
   ]
  },
  {
   "cell_type": "markdown",
   "metadata": {},
   "source": [
    "We will use the [autograd](https://github.com/HIPS/autograd) package by Prof. Ryan Adams' research group to calculate the gradient and Hessian of our objective function. <i>autograd</i> uses automatic differentiation."
   ]
  },
  {
   "cell_type": "markdown",
   "metadata": {},
   "source": [
    "<u>Scalar, univariate function</u>:"
   ]
  },
  {
   "cell_type": "code",
   "execution_count": null,
   "metadata": {},
   "outputs": [],
   "source": [
    "def line(x):\n",
    "    y = 5*x + 10\n",
    "    return y"
   ]
  },
  {
   "cell_type": "code",
   "execution_count": null,
   "metadata": {},
   "outputs": [],
   "source": [
    "x0 = 1.0\n",
    "# slope of a line\n",
    "print(autograd.grad(line)(x0))"
   ]
  },
  {
   "cell_type": "markdown",
   "metadata": {},
   "source": [
    "<u>Scalar, multivariate function</u>:"
   ]
  },
  {
   "cell_type": "code",
   "execution_count": null,
   "metadata": {},
   "outputs": [],
   "source": [
    "# note, here the input is a vector\n",
    "def plane(x):\n",
    "    z = 5*x[0] + 10*x[1] + 4\n",
    "    return z"
   ]
  },
  {
   "cell_type": "code",
   "execution_count": null,
   "metadata": {},
   "outputs": [],
   "source": [
    "x0 = np.array([1.0,2.0])\n",
    "# gradient of a plane\n",
    "print(autograd.grad(plane)(x0))"
   ]
  },
  {
   "cell_type": "code",
   "execution_count": null,
   "metadata": {
    "scrolled": true
   },
   "outputs": [],
   "source": [
    "# first component of gradient: partial derivative\n",
    "# simply refer using index 0\n",
    "print(autograd.grad(plane)(x0)[0])"
   ]
  },
  {
   "cell_type": "code",
   "execution_count": null,
   "metadata": {},
   "outputs": [],
   "source": [
    "# hessian matrix\n",
    "# does not make sense for a linear function, but still included for completeness\n",
    "print(autograd.hessian(plane)(x0))"
   ]
  },
  {
   "cell_type": "markdown",
   "metadata": {},
   "source": [
    "<u>Scalar, multivariate function with additional arguments</u>:"
   ]
  },
  {
   "cell_type": "code",
   "execution_count": null,
   "metadata": {},
   "outputs": [],
   "source": [
    "# function takes additional arguments, a and b\n",
    "def planeB(x,a,b):\n",
    "    z = a*x[0] + b*x[1] + 4\n",
    "    return z"
   ]
  },
  {
   "cell_type": "code",
   "execution_count": null,
   "metadata": {},
   "outputs": [],
   "source": [
    "x0 = np.array([1.0,2.0])\n",
    "a = 5.0\n",
    "b = 10.0\n",
    "\n",
    "# the 0 tells autograd to differentiate wrt the first argument only\n",
    "print(autograd.grad(planeB,0)(x0,a,b))"
   ]
  },
  {
   "cell_type": "markdown",
   "metadata": {},
   "source": [
    "## Plotting"
   ]
  },
  {
   "cell_type": "markdown",
   "metadata": {},
   "source": [
    "In this course, we will use matlplotlib to plot."
   ]
  },
  {
   "cell_type": "code",
   "execution_count": null,
   "metadata": {},
   "outputs": [],
   "source": [
    "import matplotlib.pyplot as plt"
   ]
  },
  {
   "cell_type": "code",
   "execution_count": null,
   "metadata": {},
   "outputs": [],
   "source": [
    "fig = plt.figure()\n",
    "ax = plt.plot([1,2,3,4],[1,4,9,16])\n",
    "plt.xlabel('x axis label')\n",
    "plt.ylabel('y axis label')\n",
    "plt.xlim([1.4, 4.2])\n",
    "plt.show()"
   ]
  },
  {
   "cell_type": "code",
   "execution_count": null,
   "metadata": {},
   "outputs": [],
   "source": [
    "# many options exist to make plots nicer, e.g., linewidths, color, labels, legends..."
   ]
  }
 ],
 "metadata": {
  "kernelspec": {
   "display_name": "Python 3",
   "language": "python",
   "name": "python3"
  },
  "language_info": {
   "codemirror_mode": {
    "name": "ipython",
    "version": 3
   },
   "file_extension": ".py",
   "mimetype": "text/x-python",
   "name": "python",
   "nbconvert_exporter": "python",
   "pygments_lexer": "ipython3",
   "version": "3.8.8"
  }
 },
 "nbformat": 4,
 "nbformat_minor": 2
}
