{
 "cells": [
  {
   "cell_type": "markdown",
   "metadata": {},
   "source": [
    "<div>\n",
    "<img src=\"figures/svtLogo.png\"/>\n",
    "</div>  \n",
    "\n",
    "<center><h1>Mathematical Optimization for Engineers</h1></center>\n",
    "<center><h2>Lab 7 - Interior point method</h2></center>"
   ]
  },
  {
   "cell_type": "markdown",
   "metadata": {},
   "source": [
    "Let's consider the following linear optimization problem:\n",
    "\n",
    "\\begin{align*}\n",
    "\t\t\\min_{x_1,x_2} x_1 + x_2 \\\\\n",
    "\t\t\\mbox{s.t. } x_1 \\geq -1 \\\\\n",
    "\t\t\t\t\t\t\t\t x_2 \\geq -1 \\\\\n",
    "\\end{align*}\n",
    "\n",
    "<u>Task 1</u>: Sketch the feasible region for this problem and contour lines of the objective. Where is the optimal solution?"
   ]
  },
  {
   "cell_type": "markdown",
   "metadata": {},
   "source": [
    "<u>Task 2</u>: Set up the Lagrangian function and write down the KKT-conditions."
   ]
  },
  {
   "cell_type": "markdown",
   "metadata": {},
   "source": [
    "<u>Task 3</u>: Transform the inequalities of the resulting nonlinear equation system into equalities by introducing slack variables."
   ]
  },
  {
   "cell_type": "markdown",
   "metadata": {},
   "source": [
    "The general idea of interior-point methods is to apply the Newton method (for root finding) to solve (approximated) KKT conditions."
   ]
  },
  {
   "cell_type": "markdown",
   "metadata": {},
   "source": [
    "<u>Task 4</u>: Change the complementarity constraints by adding a parameter $\\tau$ on the right hand side."
   ]
  },
  {
   "cell_type": "markdown",
   "metadata": {},
   "source": [
    "<u>Task 5</u>: Solve the nonlinear equation system analytically."
   ]
  },
  {
   "cell_type": "markdown",
   "metadata": {},
   "source": [
    "<u>Task 6</u>: Sketch the central path in the domain of $x_1$ and $x_2$ for different values of $\\tau$."
   ]
  },
  {
   "cell_type": "markdown",
   "metadata": {},
   "source": [
    "<u>Task 7</u>: Sketch the feasible set of the complementarity constraints for different values of $\\tau$."
   ]
  },
  {
   "cell_type": "markdown",
   "metadata": {},
   "source": [
    "<u>Task 8</u>: Write down the Newton step for solving the approximated KKT-conditions."
   ]
  },
  {
   "cell_type": "markdown",
   "metadata": {},
   "source": [
    "We will solve this system using Python below."
   ]
  },
  {
   "cell_type": "code",
   "execution_count": null,
   "metadata": {},
   "outputs": [],
   "source": [
    "import autograd\n",
    "import autograd.numpy as np\n",
    "\n",
    "# RHS of KKT system\n",
    "# approximate KKT means the complementarity slackness condition is tau and not 0\n",
    "def F(Z, tau):\n",
    "    x1 = Z[0]\n",
    "    x2 = Z[1]\n",
    "    s1 = Z[2]\n",
    "    s2 = Z[3]\n",
    "    l1 = Z[4]\n",
    "    l2 = Z[5]\n",
    "    F = np.array([1-l1,\n",
    "         1-l2,\n",
    "         x1+1-s1,\n",
    "         x2+1-s2,\n",
    "         # your code here\n",
    "         # your code here\n",
    "    ])\n",
    "    return F"
   ]
  },
  {
   "cell_type": "markdown",
   "metadata": {},
   "source": [
    "Typically, it is very difficult to find a strictly feasible initial point. Here, we are able to pick a random point because the problem is very small."
   ]
  },
  {
   "cell_type": "code",
   "execution_count": null,
   "metadata": {},
   "outputs": [],
   "source": [
    " def solve(tau):\n",
    "\n",
    "    # initial point for original problem\n",
    "    Z = np.ones(6)\n",
    "    \n",
    "    # initial guess for Newton's method\n",
    "    deltaZ = np.ones(6)\n",
    "    \n",
    "    # convergence tolerance\n",
    "    tol = 1e-5\n",
    "    \n",
    "    # f_prime\n",
    "    jac = autograd.jacobian(F, 0)\n",
    "    \n",
    "    it=0\n",
    "    # KKT conditions are a set of nonlinear equations we need to solve\n",
    "    # F(x, slack, lambda) = 0 (for exact KKT)\n",
    "    # Apply Newton's method to iterate to the solution. \n",
    "    # F(Z0) + Jacobian(Z0) * deltaZ = 0\n",
    "    while np.linalg.norm(deltaZ) > tol:\n",
    "        it=it+1\n",
    "        \n",
    "        f_prime = # your code here \n",
    "        f = # your code here \n",
    "\n",
    "        # solve linear equation system\n",
    "        deltaZ = np.linalg.solve( # your code here \n",
    "\n",
    "        Z = Z + deltaZ\n",
    "        \n",
    "    return Z, it"
   ]
  },
  {
   "cell_type": "code",
   "execution_count": null,
   "metadata": {
    "scrolled": true
   },
   "outputs": [],
   "source": [
    "# loop for different values of tau\n",
    "tau = [1.0, 0.5, 0.25, 0.125, 1e-2, 1e-3, 1e-5]\n",
    "print(\"{:<10} {:<20} {:^10}\".format('tau','minimum','iter'))\n",
    "for itau in tau:\n",
    "    Zopt, it = solve(itau)\n",
    "    print (\"{:<10} [{:^8.4f}, {:^8.4f}] {:<4} {:<20d}\".format(itau,Zopt[0],Zopt[1],' ',it))"
   ]
  }
 ],
 "metadata": {
  "kernelspec": {
   "display_name": "Python 3",
   "language": "python",
   "name": "python3"
  },
  "language_info": {
   "codemirror_mode": {
    "name": "ipython",
    "version": 3
   },
   "file_extension": ".py",
   "mimetype": "text/x-python",
   "name": "python",
   "nbconvert_exporter": "python",
   "pygments_lexer": "ipython3",
   "version": "3.6.8"
  }
 },
 "nbformat": 4,
 "nbformat_minor": 4
}
