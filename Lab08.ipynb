{
 "cells": [
  {
   "cell_type": "markdown",
   "metadata": {},
   "source": [
    "<div>\n",
    "<img src=\"figures/svtLogo.png\"/>\n",
    "</div>  \n",
    "\n",
    "<center><h1>Mathematical Optimization for Engineers</h1></center>\n",
    "<center><h2>Lab 8 - Elimination of variables, Penalty and SQP methods</h2></center>"
   ]
  },
  {
   "cell_type": "markdown",
   "metadata": {},
   "source": [
    "$$\\newcommand{\\bx}{\\mathbf{x}}$$\n",
    "The following problem is given:\n",
    "\\begin{align*}\n",
    "  \\min_{\\bx \\in \\mathbb{R}^2} \\;\\; & f(\\bx)  \\\\\n",
    "   \\text{s.t.} \\;\\;& x_1+x_2=8,\n",
    "\\end{align*}\n",
    "\n",
    "where $f(\\bx) = - (x_1^2+x_2^2+4x_1x_2)$."
   ]
  },
  {
   "cell_type": "markdown",
   "metadata": {},
   "source": [
    "<u>Task 1</u>: Find the minimum of the function using variable elimination.\n",
    "Check the second-order sufficient conditions for the unconstrained one-variable problem."
   ]
  },
  {
   "cell_type": "markdown",
   "metadata": {},
   "source": [
    "Another possibility is to use the following penalty function:\n",
    "\\begin{align*}\n",
    "  \tQ(\\bx;\\mu)=f(\\bx)+\\frac{1}{2\\mu} (x_1+x_2-8)^2\\,,\n",
    "\\end{align*}\n",
    "with $\\mu>0$ being a penalty parameter.\n",
    "     \n",
    "<br>\n",
    "<u>Task 2</u>: Write down the first-order necessary condition of optimality for minimizing $Q$."
   ]
  },
  {
   "cell_type": "markdown",
   "metadata": {},
   "source": [
    "<u>Task 3</u>: What happens as $\\mu \\rightarrow 0$?  Complete the implementation of the quadratic penalty method below:\n",
    "\n",
    "Also, report the eigenvalues and the condition number of the Hessian for each $\\mu$."
   ]
  },
  {
   "cell_type": "code",
   "execution_count": null,
   "metadata": {},
   "outputs": [],
   "source": [
    "import numpy as np\n",
    "import scipy.optimize as sp\n",
    "\n",
    "# to calculate the gradient and Hessian of the objective function\n",
    "from autograd import grad\n",
    "from autograd import hessian\n",
    "\n",
    "# to solve additionally using SLSQP solver, later on\n",
    "from scipy.optimize import Bounds\n",
    "from scipy.optimize import NonlinearConstraint\n",
    "from math import inf"
   ]
  },
  {
   "cell_type": "markdown",
   "metadata": {},
   "source": [
    "### Objective, constraint, quadratic penalty function, gradient and hessian"
   ]
  },
  {
   "cell_type": "code",
   "execution_count": null,
   "metadata": {},
   "outputs": [],
   "source": [
    "def objective(X):\n",
    "    x1, x2 = X[0], X[1]\n",
    "    f = -(x1 ** 2 + x2 ** 2 + 4 * x1 * x2)\n",
    "    return f"
   ]
  },
  {
   "cell_type": "code",
   "execution_count": null,
   "metadata": {},
   "outputs": [],
   "source": [
    "def constraint(X):\n",
    "    x1, x2 = X[0], X[1]\n",
    "    c = x1 + x2 - 8\n",
    "    return c"
   ]
  },
  {
   "cell_type": "code",
   "execution_count": null,
   "metadata": {},
   "outputs": [],
   "source": [
    "def penaltyFunction(X, mu):\n",
    "    x1, x2 = X[0], X[1]\n",
    "    # add your code here\n",
    "    return f"
   ]
  },
  {
   "cell_type": "code",
   "execution_count": null,
   "metadata": {},
   "outputs": [],
   "source": [
    "def gradient_function(x, mu): \n",
    "    return [el.item() for el in grad(penaltyFunction, 0)(x, mu)]"
   ]
  },
  {
   "cell_type": "code",
   "execution_count": null,
   "metadata": {},
   "outputs": [],
   "source": [
    "def hessian_function(x, mu): \n",
    "    return hessian(penaltyFunction, 0)(x, mu)"
   ]
  },
  {
   "cell_type": "markdown",
   "metadata": {},
   "source": [
    "### Quadratic penalty method"
   ]
  },
  {
   "cell_type": "code",
   "execution_count": null,
   "metadata": {},
   "outputs": [],
   "source": [
    "def qpm(x0, mu): \n",
    "    \n",
    "    # get eigenvalues of the Hessian\n",
    "    w, v = np.linalg.eig(hessian_function(x0, mu))\n",
    "    \n",
    "    # get condition number of the Hessian\n",
    "    n = np.linalg.cond(hessian_function(x0, mu))\n",
    "    \n",
    "    # unconstrained optimization using BFGS method\n",
    "    res = sp.minimize(penaltyFunction, x0, args=(mu), method='BFGS', jac=gradient_function)\n",
    "    \n",
    "    return w, n, res.x"
   ]
  },
  {
   "cell_type": "code",
   "execution_count": null,
   "metadata": {
    "scrolled": false
   },
   "outputs": [],
   "source": [
    "mu = 1\n",
    "x0 = np.array([1.,1.])\n",
    "\n",
    "# acceptable constraint violation at optimum\n",
    "eps_viol = 1e-15\n",
    "constraint_violation = True\n",
    "\n",
    "it = 0\n",
    "\n",
    "print (\"{:<10} {:<10} {:<20} {:^20} {:^30}\".format('iter','mu','minimum','condition nr.', 'constraint violation'))\n",
    "while constraint_violation:\n",
    "    it = it + 1\n",
    "    \n",
    "    w, n, xmin = qpm(x0,mu)\n",
    "    print (\"{:<10d} {:<10.3e} [{:^8.4f}, {:^8.4f}] {:<4} {:<20.2e} {:^20.3e}\".format(it,mu,xmin[0],xmin[1],' ',n,constraint(xmin)))\n",
    "    \n",
    "    if constraint(xmin) <= eps_viol:\n",
    "        constraint_violation = False \n",
    "    \n",
    "    # update for next iteration (e.g. half of previous penalty value)\n",
    "    # add your code here"
   ]
  },
  {
   "cell_type": "markdown",
   "metadata": {},
   "source": [
    "### SLSQP method (scipy)"
   ]
  },
  {
   "cell_type": "markdown",
   "metadata": {},
   "source": [
    "We will solve the problem using scipy's SLSQP solver (written by Dieter Kraft, DLR Oberpfaffenhofen)"
   ]
  },
  {
   "cell_type": "code",
   "execution_count": null,
   "metadata": {},
   "outputs": [],
   "source": [
    "x0 = np.array([0.,0.])\n",
    "\n",
    "bounds = Bounds([-inf,-inf], [inf,inf])\n",
    "\n",
    "# The constraint is actually linear, so you can also try a different approach.\n",
    "# See SLSQP documentation for more details on how to set up linear constraints.\n",
    "nonlinear_constraints = NonlinearConstraint(constraint, 0, 0)\n",
    "\n",
    "# use SLSQP\n",
    "res = sp.minimize(# your code here\n",
    "               constraints=[nonlinear_constraints], bounds=bounds, \n",
    "                  options={'disp': True, 'iprint': 4} )\n",
    "\n",
    "print(\"minimum = {}\".format(res.x))\n",
    "print(\"constraint violation = {}\".format(constraint(res.x)))\n",
    "# The problem is a QP which is the reason why the SLSQP method is so fast. "
   ]
  },
  {
   "cell_type": "markdown",
   "metadata": {},
   "source": [
    "# Rosenbrock function contrained\n",
    "\n",
    "The original Rosenbrock function does not have constraints, however, we introduce a constraint \n",
    "$$x_1^2 + x_2^2 - 1 \\leq 0$$"
   ]
  },
  {
   "cell_type": "code",
   "execution_count": null,
   "metadata": {},
   "outputs": [],
   "source": [
    "def rosenbrock(x):\n",
    "    return ((x[0]-1)**2 + 100*(x[1]-x[0]**2)**2)"
   ]
  },
  {
   "cell_type": "code",
   "execution_count": null,
   "metadata": {},
   "outputs": [],
   "source": [
    "def rosenbrock_inequality(x): \n",
    "    return x[0]**2 + x[1]**2 - 1"
   ]
  },
  {
   "cell_type": "code",
   "execution_count": null,
   "metadata": {},
   "outputs": [],
   "source": [
    "def penalty_inequality(x, mu): \n",
    "    # add your code here\n",
    "    return f"
   ]
  },
  {
   "cell_type": "code",
   "execution_count": null,
   "metadata": {},
   "outputs": [],
   "source": [
    "def qpm_inequality(x0, mu): \n",
    "    \n",
    "    # get eigenvalues of the Hessian\n",
    "    #w, v = np.linalg.eig(hessian_function(x0, mu))\n",
    "    \n",
    "    # get condition number of the Hessian\n",
    "    #n = np.linalg.cond(hessian_function(x0, mu))\n",
    "    \n",
    "    # unconstrained optimization using BFGS method\n",
    "    res = sp.minimize(penalty_inequality, x0, args=(mu), method='BFGS')# jac=gradient_function)\n",
    "\n",
    "    return res.x\n",
    "    #return w, n, res.x"
   ]
  },
  {
   "cell_type": "code",
   "execution_count": null,
   "metadata": {},
   "outputs": [],
   "source": [
    "mu = 1\n",
    "x0 = np.array([0.0, 0.0])\n",
    "\n",
    "# acceptable constraint violation at optimum\n",
    "eps_f = 1e-8\n",
    "sufficient_decrease = True\n",
    "\n",
    "it = 0\n",
    "\n",
    "print (\"{:<10} {:<10} {:<20} {:^20} {:^30}\".format('iter','mu','minimum','condition nr.', 'constraint value'))\n",
    "while sufficient_decrease:\n",
    "    it = it + 1\n",
    "    f_prev = rosenbrock(x0)\n",
    "    xmin = qpm_inequality(x0, mu)\n",
    "    print (\"{:<10d} {:<10.3e} [{:^8.4f}, {:^8.4f}] {:<4} {:<20.2e} {:^20.3e}\".format(it,mu,xmin[0],xmin[1],' ',n, rosenbrock_inequality(xmin)))\n",
    "    \n",
    "    if abs(f_prev - rosenbrock(xmin)) <= eps_f:\n",
    "        sufficient_decrease = False \n",
    "    \n",
    "    # update penalty for next iteration (e.g. half of previous value)\n",
    "    # add your code here\n"
   ]
  },
  {
   "cell_type": "code",
   "execution_count": null,
   "metadata": {},
   "outputs": [],
   "source": [
    "x0 = np.array([0.,0.])\n",
    "\n",
    "bounds = Bounds([-inf,-inf], [inf,inf])\n",
    "\n",
    "nonlinear_constraints = NonlinearConstraint(rosenbrock_inequality, -inf, 0)\n",
    "\n",
    "# use SLSQP\n",
    "res = sp.minimize(# your code here\n",
    "               constraints=[nonlinear_constraints], bounds=bounds, options={'disp': True, 'iprint': 4} )\n",
    "\n",
    "print(\"minimum = {}\".format(res.x))\n",
    "print(\"constraint value = {}\".format(rosenbrock_inequality(res.x)))"
   ]
  },
  {
   "cell_type": "code",
   "execution_count": null,
   "metadata": {},
   "outputs": [],
   "source": []
  }
 ],
 "metadata": {
  "kernelspec": {
   "display_name": "Python 3",
   "language": "python",
   "name": "python3"
  },
  "language_info": {
   "codemirror_mode": {
    "name": "ipython",
    "version": 3
   },
   "file_extension": ".py",
   "mimetype": "text/x-python",
   "name": "python",
   "nbconvert_exporter": "python",
   "pygments_lexer": "ipython3",
   "version": "3.6.8"
  }
 },
 "nbformat": 4,
 "nbformat_minor": 4
}
