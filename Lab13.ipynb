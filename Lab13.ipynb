{
 "cells": [
  {
   "cell_type": "markdown",
   "metadata": {},
   "source": [
    "<div>\n",
    "<img src=\"figures/svtLogo.png\"/>\n",
    "</div>\n",
    "<h1><center>Mathematical Optimization for Engineers</center></h1>\n",
    "<h2><center>Lab 13 - Optimization and Machine learning</center></h2>\n",
    "\n",
    "In this exercise, we will optimize a machine learning model. First, the model is trained and in the following, we will compute the optimal inputs."
   ]
  },
  {
   "cell_type": "code",
   "execution_count": null,
   "metadata": {},
   "outputs": [],
   "source": [
    "import numpy as np\n",
    "from assets import utils \n",
    "\n",
    "from sklearn.neural_network import MLPRegressor\n",
    "from sklearn.model_selection import train_test_split\n",
    "\n",
    "\n",
    "from scipy.optimize import fmin,fmin_bfgs, Bounds, minimize\n",
    "\n",
    "from matplotlib import pyplot as plt\n",
    "\n",
    "## Johannes M. M. Faust and Ashutosh Manchanda"
   ]
  },
  {
   "cell_type": "code",
   "execution_count": null,
   "metadata": {},
   "outputs": [],
   "source": [
    "# Problem statement taken from \n",
    "# https://git.rwth-aachen.de/avt-svt/public/MeLOn.git\n",
    "############################ LOAD DATA ############################ \n",
    "# enter data set information\n",
    "problem_name = \"peaks\"\n",
    "# enter file name of training data - \n",
    "filename_data = \"./assets/peaks.csv\"\n",
    "# dimensionality of the data\n",
    "input_dim = 2\n",
    "output_dim = 1\n",
    "# scale Input to [-1,1] range\n",
    "scaleInput = True\n",
    "# normalize Output to z-score\n",
    "normalizeOutput = False # was true\n",
    "\n",
    "data = np.loadtxt(open(filename_data, \"rb\"), delimiter=\",\")\n",
    "X = data[:, :-output_dim]\n",
    "y = data[:, input_dim:]\n",
    "X_norm = utils.scale(X, scaleInput)\n",
    "y_norm = utils.normalize(y, normalizeOutput)\n",
    "x_train, x_val, y_train, y_val = train_test_split(X_norm, y_norm, test_size=0.15)\n",
    "n_train = x_train.shape[0]\n",
    "\n",
    "\n"
   ]
  },
  {
   "cell_type": "code",
   "execution_count": null,
   "metadata": {},
   "outputs": [],
   "source": [
    "# training of artificial neural network\n",
    "# use relu and (10,10,10) as layer architecture\n",
    "# your code here\n",
    "regr = \n",
    "print('R2 for validation data of ANN is: ', regr.score(x_val, y_val))"
   ]
  },
  {
   "cell_type": "code",
   "execution_count": null,
   "metadata": {},
   "outputs": [],
   "source": [
    "# plotting\n",
    "y_pred = regr.predict(X_norm)\n",
    "n_rt = np.sqrt(n_train).astype(int) \n",
    "X = np.zeros((n_rt, n_rt))\n",
    "Y = np.zeros((n_rt, n_rt))\n",
    "Z_true = np.zeros((n_rt, n_rt))\n",
    "Z_pred = np.zeros((n_rt, n_rt))\n",
    "for i in range(n_rt):\n",
    "    for j in range(n_rt):\n",
    "        X[i, j] = X_norm[i * n_rt + j, 0]\n",
    "        Y[i, j] = X_norm[i * n_rt + j, 1]\n",
    "        Z_true[i, j] = y_norm[i * n_rt + j]\n",
    "        Z_pred[i, j] = y_pred[i * n_rt + j]\n",
    "\n",
    "fig = plt.figure(figsize=plt.figaspect(0.4))\n",
    "ax = fig.add_subplot(1, 2, 1, projection='3d')\n",
    "cmap = plt.get_cmap('coolwarm')\n",
    "ax.plot_surface(X, Y, Z_true, cmap=cmap)\n",
    "ax.set_title('training data')\n",
    "ax.set_xlabel('x0')\n",
    "ax.set_ylabel('x1')\n",
    "\n",
    "ax = fig.add_subplot(1, 2, 2, projection='3d')\n",
    "ax.plot_wireframe(X, Y, Z_pred)\n",
    "ax.set_title('learned function')\n",
    "ax.set_xlabel('x0')\n",
    "ax.set_ylabel('x1')\n",
    "plt.show()\n"
   ]
  },
  {
   "cell_type": "code",
   "execution_count": null,
   "metadata": {},
   "outputs": [],
   "source": [
    "def objective_function(x): \n",
    "    return regr.predict(x.reshape(-1,2))"
   ]
  },
  {
   "cell_type": "code",
   "execution_count": null,
   "metadata": {},
   "outputs": [],
   "source": [
    "# optimize embedded ANN model with different initial guesses\n",
    "bnds = Bounds(-1.0, 1.0)\n",
    "\n",
    "# minimze the trained ANN using several different initial guesses\n",
    "# your code here"
   ]
  }
 ],
 "metadata": {
  "kernelspec": {
   "display_name": "Python 3",
   "language": "python",
   "name": "python3"
  },
  "language_info": {
   "codemirror_mode": {
    "name": "ipython",
    "version": 3
   },
   "file_extension": ".py",
   "mimetype": "text/x-python",
   "name": "python",
   "nbconvert_exporter": "python",
   "pygments_lexer": "ipython3",
   "version": "3.6.8"
  }
 },
 "nbformat": 4,
 "nbformat_minor": 5
}
