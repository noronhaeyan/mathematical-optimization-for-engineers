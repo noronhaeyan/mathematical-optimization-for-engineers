{
 "cells": [
  {
   "cell_type": "markdown",
   "metadata": {},
   "source": [
    "<div>\n",
    "<img src=\"figures/svtLogo.png\"/>\n",
    "</div>\n",
    "\n",
    "<center><h1>Mathematical Optimization for Engineers</h1></center>\n",
    "<center><h2>Bonus exercise 1</h2></center>"
   ]
  },
  {
   "cell_type": "markdown",
   "metadata": {},
   "source": [
    "In this exercise, you will implement and solve the optimization problem that we formulated in Lab 01.<br>\n",
    "<br>\n",
    "Please complete the following tasks as you program:\n",
    "\n",
    "1. Use the <i>linprog</i> solver from the <i>scipy</i> package.\n",
    "<br>\n",
    "<br>\n",
    "2. Is the demand penalty active in the optimal solution?\n",
    "<br>\n",
    "<br>\n",
    "3. Write down the units of all optimization variables next to their names as comments e.g.\n",
    "\n",
    "\n",
    "**Hint: The optimal objective value is 1943.87 €/h.**"
   ]
  },
  {
   "cell_type": "code",
   "execution_count": null,
   "metadata": {},
   "outputs": [],
   "source": [
    "# P1 - kW\n",
    "# PP - kW"
   ]
  },
  {
   "cell_type": "markdown",
   "metadata": {},
   "source": [
    "You may use the template below, for your code."
   ]
  },
  {
   "cell_type": "code",
   "execution_count": 2,
   "metadata": {},
   "outputs": [],
   "source": [
    "import numpy as np\n",
    "from scipy.optimize import linprog"
   ]
  },
  {
   "cell_type": "markdown",
   "metadata": {},
   "source": [
    "Tip: every solver expects input in its own unique format. We should inform ourselves of this format by looking at the documentation of the solver <u>before</u> we start to implement our problem.\n",
    "\n",
    "[Click here for linprog documentation](https://docs.scipy.org/doc/scipy/reference/generated/scipy.optimize.linprog.html)\n",
    "\n",
    "`linprog(c, Aub, bub, Aeq, beq, bounds, method='interior-point', options, x0)`\n",
    "\n",
    "\n",
    "\\begin{align}\n",
    "\\min_\\mathbf x \\ & \\mathbf c^T \\mathbf x \\\\\n",
    "        \\mbox{s. t.} \\; \\ & \\mathbf A_{ub} \\mathbf x \\leq \\mathbf b_{ub},\\\\\n",
    "        & \\mathbf A_{eq} \\mathbf x = \\mathbf b_{eq},\\\\\n",
    "        & \\mathbf l \\leq \\mathbf x \\leq \\mathbf u ,\n",
    "\\end{align}\n",
    "\n",
    "\n",
    "where $\\mathbf x$ is a vector of decision variables; $\\mathbf c$,\n",
    "$\\mathbf b_{ub}$, $\\mathbf b_{eq}$, $\\mathbf l$, and $\\mathbf u$ are vectors; and\n",
    "$\\mathbf A_{ub}$ and $\\mathbf A_{eq}$ are matrices."
   ]
  },
  {
   "cell_type": "code",
   "execution_count": 3,
   "metadata": {},
   "outputs": [],
   "source": [
    "# dimensions of problem \n",
    "numVars = 18\n",
    "numEqC = 10\n",
    "numInEqC = 2\n",
    "\n",
    "# define indicies for variables\n",
    "I1, I2, HE1, HE2, LE1, LE2, C, BF1, BF2, HPS, MPS, LPS, P1, P2, PP, EP, Power, Fuel = (i for i in range(numVars))\n",
    "\n",
    "# prices from Table 2\n",
    "fuel_cost_coeff=1.5*10 ** (-6)#Unit Euro/kJ\n",
    "condensate_loss_coeff=0.008 # Unit Euro/kg\n",
    "produced_power_coeff=0.02 # Unit Euro/kWh\n",
    "purchased_power_coeff=0.05# Unit Euro/kWh\n",
    "demand_penalty=0.001# Unit Euro/kWh\n",
    "\n",
    "# enthalpies from Table 4\n",
    "Enthalpy_of_HPS=3163 #Unit kJ/kg\n",
    "enthalpy_mps=2949 #Unit kJ/kg\n",
    "enthalpy_lps=2911 #Unit kJ/kg \n",
    "enthalpy_condensate=449 #Unit kJ/kg\n",
    "\n",
    "# data from Table 5\n",
    "Evaporator_Efficiency=0.75 #Unit -\n",
    "basic_power=12000 # Unit kW"
   ]
  },
  {
   "cell_type": "code",
   "execution_count": 4,
   "metadata": {},
   "outputs": [],
   "source": [
    "# coefficients in the objective function: \n",
    "c = np.zeros(numVars)\n",
    "c[PP]=0.02\n",
    "\n",
    "# add your code here"
   ]
  },
  {
   "cell_type": "code",
   "execution_count": 5,
   "metadata": {},
   "outputs": [],
   "source": [
    "# inequality constraints\n",
    "# Aub = np.zeros...\n",
    "# bub = np.zeros...\n",
    "\n",
    "# add your code here\n",
    "\n",
    "# I1-HE1 <= 60000 \n",
    "Aub[0,I1]=1\n",
    "Aub[0,HE1]=-1\n",
    "bub[0]=60000\n",
    "\n",
    "# P1+P2+EP >= 24500\n",
    "\n",
    "# add your code here"
   ]
  },
  {
   "cell_type": "code",
   "execution_count": 6,
   "metadata": {},
   "outputs": [],
   "source": [
    "# equality constraints \n",
    "# Aeq = np.zeros ...\n",
    "# beq = np.zeros ...\n",
    "\n",
    "# add your code here\n",
    "\n",
    "# Enthalpy_of_HPS*HPS=Evaporator_Efficiency*Fuel\n",
    "Aeq[0,Fuel]=Evaporator_Efficiency\n",
    "Aeq[0,HPS]=-Enthalpy_of_HPS\n",
    "\n",
    "# HPS = I1+I2+BF1\n",
    "\n",
    "# add your code here\n",
    "\n",
    "# I1 = HE1+LE1+C\n",
    "\n",
    "# add your code here\n",
    "\n",
    "# I2 = HE2+LE2\n",
    "\n",
    "# add your code here\n",
    "\n",
    "# HE1+HE2+BF1 = BF2+MPS\n",
    "\n",
    "# add your code here\n",
    "\n",
    "# LPS = LE1+LE2+BF2\n",
    "\n",
    "# add your code here\n",
    "\n",
    "# 3163*I1 = enthalpy_mps*HE1+2911*LE1+449*C+3600*P1\n",
    "\n",
    "# add your code here\n",
    "\n",
    "# 3163*I2 = enthalpy_mps*HE2+2911*LE2+3600*P2\n",
    "\n",
    "# add your code here\n",
    "\n",
    "# PP=P1+P2\n",
    "\n",
    "# add your code here\n",
    "\n",
    "# Power=PP+EP\n",
    "\n",
    "# add your code here"
   ]
  },
  {
   "cell_type": "code",
   "execution_count": 7,
   "metadata": {},
   "outputs": [],
   "source": [
    "# lower bounds and upper bounds for variables\n",
    "bnds = []\n",
    "lb = np.zeros(numVars)\n",
    "ub = np.ones(numVars) * np.inf\n",
    "\n",
    "lb[P1]=2500\n",
    "\n",
    "# add your code here\n",
    "\n",
    "ub[P1]=6250\n",
    "\n",
    "# add your code here\n",
    "\n",
    "# collect bounds in the correct format for using linprog\n",
    "bnds = []\n",
    "for i in range(0, len(lb)):\n",
    "    bnds.append((lb[i], ub[i]))"
   ]
  },
  {
   "cell_type": "code",
   "execution_count": null,
   "metadata": {},
   "outputs": [],
   "source": [
    "# case A\n",
    "# EP >= 12 MW\n",
    "\n",
    "# add your code here"
   ]
  },
  {
   "cell_type": "code",
   "execution_count": null,
   "metadata": {},
   "outputs": [],
   "source": [
    "# case B\n",
    "# EP < 12 MW\n",
    "\n",
    "# add your code here"
   ]
  }
 ],
 "metadata": {
  "kernelspec": {
   "display_name": "Python 3",
   "language": "python",
   "name": "python3"
  },
  "language_info": {
   "codemirror_mode": {
    "name": "ipython",
    "version": 3
   },
   "file_extension": ".py",
   "mimetype": "text/x-python",
   "name": "python",
   "nbconvert_exporter": "python",
   "pygments_lexer": "ipython3",
   "version": "3.6.8"
  }
 },
 "nbformat": 4,
 "nbformat_minor": 4
}
