{
 "cells": [
  {
   "cell_type": "markdown",
   "metadata": {
    "deletable": false,
    "editable": false,
    "nbgrader": {
     "cell_type": "markdown",
     "checksum": "bb5d7499ccf85c0352263d389828a701",
     "grade": false,
     "grade_id": "cell-2380c365f7051fcf",
     "locked": true,
     "schema_version": 3,
     "solution": false,
     "task": false
    }
   },
   "source": [
    "<div>\n",
    "<img src=\"figures/svtLogo.png\"/>\n",
    "</div>"
   ]
  },
  {
   "cell_type": "markdown",
   "metadata": {
    "deletable": false,
    "editable": false,
    "nbgrader": {
     "cell_type": "markdown",
     "checksum": "cde5415abdea4e47503d7da2c7e7c6ec",
     "grade": false,
     "grade_id": "cell-6d45a0e831d294cb",
     "locked": true,
     "schema_version": 3,
     "solution": false,
     "task": false
    }
   },
   "source": [
    "<h1><center>Mathematical Optimization for Engineers</center></h1>\n",
    "<h2><center>Bonus exercise 3 </center></h2>"
   ]
  },
  {
   "cell_type": "markdown",
   "metadata": {
    "deletable": false,
    "editable": false,
    "nbgrader": {
     "cell_type": "markdown",
     "checksum": "983687c98dd8718f91733630b9b378b4",
     "grade": false,
     "grade_id": "cell-63cbfa7c647637e7",
     "locked": true,
     "schema_version": 3,
     "solution": false,
     "task": false
    }
   },
   "source": [
    "## Background\n",
    "### Optimal control problems"
   ]
  },
  {
   "cell_type": "markdown",
   "metadata": {
    "deletable": false,
    "editable": false,
    "nbgrader": {
     "cell_type": "markdown",
     "checksum": "cf8acdd5cf6ca570a798927f5891d130",
     "grade": false,
     "grade_id": "cell-d79a3f855bc32d6a",
     "locked": true,
     "schema_version": 3,
     "solution": false,
     "task": false
    }
   },
   "source": [
    "$$\\newcommand{\\R}{\\mathbb R}$$\n",
    "In this programming exercise, you will solve an optimal control problem (OCP). OCPs are a special case of dynamic optimization problems. For this exercise, we introduce the following class of optimal control problems:\n",
    "\n",
    "\\begin{align}\n",
    "\t\\min_{\\mathbf{x}(\\cdot),\\mathbf{u}(\\cdot)}  & \\Phi(\\mathbf{x}(\\cdot)) = \\mathbf{\\phi}(\\mathbf{x}(t_f)) \\\\\n",
    "\t\\mbox{s.t. }\\quad & \\dot{\\mathbf{x}}(t) = \\mathbf{f}(\\mathbf{x}(t),\\mathbf{u}(t)), \\; t \\in [t_0,t_f], \\\\\n",
    "    &\\mathbf{x}(t_0) = \\mathbf{x_0}, \\\\\n",
    "\t&\\mathbf{u}_{\\min}  \\leq \\mathbf{u}(t) \\leq \\mathbf{u}_{\\max} \\; \\forall \\; t \\in [t_0,t_f].\n",
    "\\end{align}\n",
    "    \n",
    "The state variables $\\mathbf{x}(t) \\in \\R^{n_x}$ and control variables $\\mathbf{u}(t) \\in \\R^{n_u}$ are time-dependent. The so-called Mayer-type objective functional $\\Phi$ is defined by the function $\\mathbf{\\phi} : \\R^{n_x} \\rightarrow \\R$, that only depends on the state $\\mathbf{x}(t)$ at the final time $t_f$. The constraints are a system of ordinary differential equations (ODE). The right hand side of the ODE is given by the function $\\mathbf{f}:\\R^{n_x}\\times \\R^{n_u} \\rightarrow \\R^{n_x}$. Finally, we consider control path constraints in form of simple lower and upper bounds $\\mathbf{u}_{\\min} \\in \\R^{n_u}$ and $\\mathbf{u}_{\\max} \\in \\R^{n_u}$ on $\\mathbf{u}(t)$, respectively.\n",
    "\n",
    "The dimension of the optimization problem is infinite, since for every $t\\in [t_0,t_f]$, $\\mathbf{u}(t)$ and $\\mathbf{x}(t)$ are optimization variables.\n",
    "\n",
    "For fixed $\\mathbf{u}(\\cdot)$, the state variables $\\mathbf{x}(t),\\,t\\in [t_0,t_f]$ are uniquely determined by the solution of the initial value problem. Thus, the control vector function $\\mathbf{u}:[t_0,t_f] \\rightarrow \\R^{n_u}$  is the actual (infinite-dimensional) degree of freedom."
   ]
  },
  {
   "cell_type": "markdown",
   "metadata": {
    "deletable": false,
    "editable": false,
    "nbgrader": {
     "cell_type": "markdown",
     "checksum": "344c0eeb20806857565edba6d17c96f7",
     "grade": false,
     "grade_id": "cell-056c760315ee0882",
     "locked": true,
     "schema_version": 3,
     "solution": false,
     "task": false
    }
   },
   "source": [
    "### Full discretization approach"
   ]
  },
  {
   "cell_type": "markdown",
   "metadata": {
    "deletable": false,
    "editable": false,
    "nbgrader": {
     "cell_type": "markdown",
     "checksum": "77d4ae6762a8e21b72845f8e90d22152",
     "grade": false,
     "grade_id": "cell-0753d13b9ce9dc0e",
     "locked": true,
     "schema_version": 3,
     "solution": false,
     "task": false
    }
   },
   "source": [
    "$$\\newcommand{\\R}{\\mathbb R}$$\n",
    "The so-called full discretization approach discretizes state and control variables, as well as the differential equations. Thus, the original optimal control problem is transformed into an ordinary nonlinear program (NLP). Here, we will use the <u>implicit Euler method</u> to discretize the ODE into a set of nonlinear equations. The procedure to obtain a nonlinear program is now described in detail:\n",
    "\n",
    "The first step is to divide the time horizon $[t_0,t_f]$ into $M$ intervals $[t_{k-1},t_k]$, $k=1,\\dots, M$ of length $h$ with\n",
    "\n",
    "$\n",
    "t_M = t_f, \\qquad t_k - t_{k-1} = h, \\, k=1,\\dots, M, \\qquad h = \\frac{t_f-t_0}{M}.\n",
    "$\n",
    "\n",
    "The implicit Euler discretization is then\n",
    "\\begin{equation}\\label{eq:euler}\n",
    "\\mathbf{x}_{k+1} = \\mathbf{x}_k + h \\cdot \\mathbf{f}(\\mathbf{x}_{k+1},\\mathbf{u}_{k+1}), \\quad k=0,1,\\dots,M-1,\n",
    "\\end{equation}\n",
    "\n",
    "where $\\mathbf{x}_{k}\\in \\R^{n_x}$ and $\\mathbf{u}_k\\in \\R^{n_u}$ are finite dimensional decision variables that approximate the states $\\mathbf{x}(t)$ and controls $\\mathbf{u}(t)$, respectively, at the discretization points\n",
    "$t_k$, $k=1,2,\\dots,M$."
   ]
  },
  {
   "cell_type": "markdown",
   "metadata": {
    "deletable": false,
    "editable": false,
    "nbgrader": {
     "cell_type": "markdown",
     "checksum": "7a9dbd971e1c4ef7e1b1bf6f13745954",
     "grade": false,
     "grade_id": "cell-d37af9f9d6326b89",
     "locked": true,
     "schema_version": 3,
     "solution": false,
     "task": false
    }
   },
   "source": [
    "$$\\newcommand{\\R}{\\mathbb R}$$\n",
    "The optimization variable vector of the full discretization NLP is \n",
    "\n",
    "\\begin{align}\n",
    "\\mathbf{y} = \\left(\\begin{array}{c}\n",
    "\\mathbf{x}_1\\\\\n",
    "\\mathbf{u}_1\\\\\n",
    "\\mathbf{x}_2\\\\\n",
    "\\mathbf{u}_2\\\\\n",
    "\\vdots \\\\\n",
    "\\mathbf{x}_M\\\\\n",
    "\\mathbf{u}_M\n",
    "\\end{array} \\right) \\in \\R^{n_y}, \\quad \\text{where } n_y = M\\cdot(n_x+n_u).\n",
    "\\end{align}\n",
    "\n",
    "The full discretization NLP is\n",
    "\n",
    "\\begin{align}\n",
    "\\min_{\\mathbf{y} \\in \\R^{n_y}} & \\phi(\\mathbf{x}_M) \\\\\n",
    "\\text{s.t.}\\quad & \\mathbf{c}_k(y) = \\mathbf{0}, \\quad k=0,1,\\dots, M-1 \\\\\n",
    "& \\mathbf{u}_{\\min} \\le \\mathbf{u}_k \\le \\mathbf{u}_{\\max}, \\quad k=1,\\dots,M,\n",
    "\\end{align}\n",
    "\n",
    "where the constraint functions $\\mathbf{c}_k: \\R^{n_y} \\rightarrow \\R^{n_x}$, $k=0,1,\\dots,M-1$ are defined by:\n",
    "$\n",
    "\\mathbf{c}_k(\\mathbf{y}) := \\mathbf{x}_{k+1} - \\mathbf{x}_k - h \\cdot \\mathbf{f}(\\mathbf{x}_{k+1},\\mathbf{u}_{k+1}).\n",
    "$"
   ]
  },
  {
   "cell_type": "markdown",
   "metadata": {
    "deletable": false,
    "editable": false,
    "nbgrader": {
     "cell_type": "markdown",
     "checksum": "d2d25c72b0c16075da0680d3389ce5e6",
     "grade": false,
     "grade_id": "cell-62da453a7dc9a5c5",
     "locked": true,
     "schema_version": 3,
     "solution": false,
     "task": false
    }
   },
   "source": [
    "## Problem description"
   ]
  },
  {
   "cell_type": "markdown",
   "metadata": {
    "deletable": false,
    "editable": false,
    "nbgrader": {
     "cell_type": "markdown",
     "checksum": "5016dec03e3b8fdc1ae0458cb6c55da5",
     "grade": false,
     "grade_id": "cell-bbf0482767b790e3",
     "locked": true,
     "schema_version": 3,
     "solution": false,
     "task": false
    }
   },
   "source": [
    "We consider reactions inside a cylindrical fixed bed reactor:\n",
    "<br>\n",
    "<br>\n",
    "<div>\n",
    "<img src=\"figures/fixedBed.png\" width=\"500\"/>\n",
    "</div>\n"
   ]
  },
  {
   "cell_type": "markdown",
   "metadata": {
    "deletable": false,
    "editable": false,
    "nbgrader": {
     "cell_type": "markdown",
     "checksum": "06e74f9b90c03072e393939ac939b3a4",
     "grade": false,
     "grade_id": "cell-e21075c3ee4fe250",
     "locked": true,
     "schema_version": 3,
     "solution": false,
     "task": false
    }
   },
   "source": [
    "For modelling purposes, think of it as a cylndrical tube, filled with catalyst pellets (bed), with reactants flowing through the bed and being converted into products. The reactant enters the reactor on the inflow side, reacts inside the reactor and leaves together with the products on the outflow side.\n",
    "<br>\n",
    "<br>\n",
    "<div>\n",
    "<img src=\"figures/TubularReactor-001.png\" width=\"400\"/>\n",
    "</div>\n",
    "\n",
    "We additionally assume the fluid velocity inside the cylinder to be uniform over a cross-section $A_c$, the flow to be in steady-state and the density of the fluid to be constant.\n",
    "\n",
    "In our problem, the reactions inside the reactor can be described by the following chemical equation:\n",
    "<br>\n",
    "<br>\n",
    "<div>\n",
    "<img src=\"figures/catReaction.png\" width=\"150\"/>\n",
    "</div>\n",
    "\n",
    "The reactions are catalysed - the reversible step from species $A$ to intermediate species $B$, $A  \\rightleftharpoons B$, is dependent on catalyst 1 and the irreversible step from $B \\rightarrow C$ is dependent on catalyst 2. \n",
    "\n",
    "The objective is to maximize the amount of $C$ at the outflow by adjusting the mixture of catalysts at all positions $t$ on the bed. The control variable, $u(t)$, is the fraction of catalyst 1 and consequently, $(1-u(t))$ is the fraction of catalyst 2 on the cross-section of the bed, at position $t$. \n",
    "\n",
    "It is important to remark, that the variable $t$ does not represent the time in this problem, but the spatial dimension in direction of the reactor axis."
   ]
  },
  {
   "cell_type": "markdown",
   "metadata": {
    "deletable": false,
    "editable": false,
    "nbgrader": {
     "cell_type": "markdown",
     "checksum": "fb0bbe0d2d5993a189b6436330011e8e",
     "grade": false,
     "grade_id": "cell-2601d1d7d9c9867b",
     "locked": true,
     "schema_version": 3,
     "solution": false,
     "task": false
    }
   },
   "source": [
    "To solve the problem using full-discretization, we first discretize the 1-dimensional space as shown:\n",
    "<br>\n",
    "<br>\n",
    "<div>\n",
    "<img src=\"figures/TubularReactor-002.png\" width=\"400\"/>\n",
    "</div>\n",
    "<br>\n",
    "<br>\n",
    "The equations below show the mathematical formulation of this setting:<br> \n",
    "<i>(Hint: The flow is assumed uniform and steady, so the space and time derivatives are interchangeable with the help of a constant. You can assume the constant flow speed to be $1m/s$ and the length of the reactor, $t_f = 1m$)</i>:\n",
    "\n",
    "\\begin{align}\n",
    "\\begin{split}\n",
    "\\frac{d x_A(t)}{d t} &= u(t) \\cdot (k_2x_B(t) - k_1x_A(t))\\\\\n",
    "\\\\\n",
    "\\frac{d x_B(t)}{d t} &= -u(t) \\cdot (k_2x_B(t)-k_1x_A(t))-(1-u(t))\\cdot k_3 x_B(t)\\\\\n",
    "\\\\\n",
    "x_C(t) &= 1-x_A(t)-x_B(t), \\; \\; t \\in [t_0,t_f] \\\\\n",
    "\\\\\n",
    "u_{min} \\; &\\le \\; u(t) \\; \\le \\; u_{max} \\; \\forall \\; t \\in [t_0,t_f]\\\\\n",
    "\\\\\n",
    "\\mathbf{\\phi}(x_A(t_f)&, x_B (t_f))=x_C(t_f) = 1-x_A(t_f)-x_B(t_f)\n",
    "\\end{split}\n",
    "\\end{align}\n",
    "<br>\n",
    "<br>\n",
    "$x_A(t)$ and $x_B(t)$ are the unknown mole fractions of the educts $A$ and $B$ at position $t$, where $t$ is the distance from the inflow.\n",
    "\n",
    "$k_1$, $k_2$ and $k_3$ are the velocity constants of reactions $1$, $2$ and $3$. In the following, the values $k_1=k_3=1$, $k_2=10$, $t_0=0$ and $t_f=1$ shall be used. \n",
    "\n",
    "As stated before the control variable $u$ represents the mole fraction of  catalyst 1, therefore $u_{min}=0$ and $u_{max}=1$.\n",
    "\n",
    "The inflow only consists of reactant $A$. So the last piece of information needed to solve this problem are the initial conditions:\n",
    "\\begin{align}\n",
    "\\begin{split}\n",
    "{x}_A(t_0) &= 1\\\\\n",
    "{x}_B(t_0) &= 0.\\label{initialvalue}\n",
    "\\end{split}\n",
    "\\end{align}\n",
    "\n",
    "The goal is to maximize the mole fraction of product $C$, namely \n",
    "$\n",
    "x_C(t_f) = \\phi(x_A(t_f), x_B (t_f)) =\n",
    "1-x_A(t_f)-x_B(t_f)\n",
    "$\n",
    "at the final position ($t_f = 1$)."
   ]
  },
  {
   "cell_type": "markdown",
   "metadata": {
    "deletable": false,
    "editable": false,
    "nbgrader": {
     "cell_type": "markdown",
     "checksum": "49c3c64481f2e01f3a5af16a1bcecb36",
     "grade": false,
     "grade_id": "cell-0019fa20eefc1dca",
     "locked": true,
     "schema_version": 3,
     "solution": false,
     "task": false
    }
   },
   "source": [
    "### Your task"
   ]
  },
  {
   "cell_type": "markdown",
   "metadata": {
    "deletable": false,
    "editable": false,
    "nbgrader": {
     "cell_type": "markdown",
     "checksum": "b9ba955ff7267e34e28c85e1761fdef6",
     "grade": false,
     "grade_id": "cell-5518593ae96d4676",
     "locked": true,
     "schema_version": 3,
     "solution": false,
     "task": false
    }
   },
   "source": [
    "1. Set up the nonlinear program by applying full discretization.\n",
    "<br>\n",
    "<br>\n",
    "2. Solve the nonlinear optimization problem using the solver SLSQP. Use the value $0.5$ as initial guess for $u_k$, and $(1,0)^T$ (why?) as an initial guess for $x_k$."
   ]
  },
  {
   "cell_type": "markdown",
   "metadata": {
    "deletable": false,
    "editable": false,
    "nbgrader": {
     "cell_type": "markdown",
     "checksum": "7d71af6cd70c2b4478b4861e851a4f2b",
     "grade": false,
     "grade_id": "cell-03f1d14521a45822",
     "locked": true,
     "schema_version": 3,
     "solution": false,
     "task": false
    }
   },
   "source": [
    "#### Hint"
   ]
  },
  {
   "cell_type": "markdown",
   "metadata": {
    "deletable": false,
    "editable": false,
    "nbgrader": {
     "cell_type": "markdown",
     "checksum": "79070f723a08bb39145c731268c40459",
     "grade": false,
     "grade_id": "cell-57411cfb4c3ab443",
     "locked": true,
     "schema_version": 3,
     "solution": false,
     "task": false
    }
   },
   "source": [
    "The computed optimal objective function values for $M=10$, $M=30$ and $M=50$ are\n",
    "0.0450, 0.0468 and 0.0472, respectively."
   ]
  },
  {
   "cell_type": "markdown",
   "metadata": {
    "deletable": false,
    "editable": false,
    "nbgrader": {
     "cell_type": "markdown",
     "checksum": "86c9c8006c76bb39f0a6852b446bc855",
     "grade": false,
     "grade_id": "cell-b5c1ff7105196d51",
     "locked": true,
     "schema_version": 3,
     "solution": false,
     "task": false
    }
   },
   "source": [
    "<u>You must use the template below, for submission.</u> \n",
    "<br>\n",
    "<br>\n",
    "- As a rule of thumb, you <b>only add code</b> to this file and <b> do not delete or change anything in the template</b>.\n",
    "<br>\n",
    "<br>\n",
    "- To see where you can add code, go ahead and do a search (ctrl+f) for '# YOUR CODE HERE'\n",
    "<br>\n",
    "<br>\n",
    "- Once you have added your code at these spots, delete the subsequent 'raise NotImplementedError()'. These exist only to remind you to add your own code.\n",
    "<br>\n",
    "<br>\n",
    "- Most importantly, have fun while programing :)!"
   ]
  },
  {
   "cell_type": "code",
   "execution_count": null,
   "metadata": {},
   "outputs": [],
   "source": [
    "import numpy as np\n",
    "\n",
    "# refer to the documentation of scipy's SLSQP solver to understand these imports\n",
    "from scipy.optimize import minimize\n",
    "from scipy.optimize import Bounds\n",
    "from scipy.optimize import NonlinearConstraint\n",
    "\n",
    "# don't worry about plotting\n",
    "from matplotlib import pyplot as plt"
   ]
  },
  {
   "cell_type": "code",
   "execution_count": null,
   "metadata": {
    "deletable": false,
    "nbgrader": {
     "cell_type": "code",
     "checksum": "8aad4cf79e18769fe6f1177cf2dd494a",
     "grade": false,
     "grade_id": "eval_rhs",
     "locked": false,
     "schema_version": 3,
     "solution": true,
     "task": false
    }
   },
   "outputs": [],
   "source": [
    "# Right hand side function of ODE (10 points)\n",
    "\n",
    "# inputs: state and control vectors, x and u, as numpy arrays\n",
    "\n",
    "# output: RHS vector, f, as numpy array\n",
    "\n",
    "def eval_rhs(x, u):\n",
    "    # constants\n",
    "    k1 = 1\n",
    "    k2 = 10\n",
    "    k3 = 1\n",
    "    \n",
    "    f = np.zeros(2)\n",
    "    \n",
    "    # YOUR CODE HERE\n",
    "    raise NotImplementedError()\n",
    "    \n",
    "    return f"
   ]
  },
  {
   "cell_type": "code",
   "execution_count": null,
   "metadata": {
    "deletable": false,
    "editable": false,
    "nbgrader": {
     "cell_type": "code",
     "checksum": "1cf40a83fa405084aa6598dabeeeaf9e",
     "grade": true,
     "grade_id": "testeval_rhs",
     "locked": true,
     "points": 10,
     "schema_version": 3,
     "solution": false,
     "task": false
    }
   },
   "outputs": [],
   "source": [
    "# please leave this cell as it is"
   ]
  },
  {
   "cell_type": "code",
   "execution_count": null,
   "metadata": {
    "deletable": false,
    "nbgrader": {
     "cell_type": "code",
     "checksum": "f0bd7a74634a656e5ccd0cc84c5b6532",
     "grade": false,
     "grade_id": "cons",
     "locked": false,
     "schema_version": 3,
     "solution": true,
     "task": false
    }
   },
   "outputs": [],
   "source": [
    "# equality constraints for optimization - discretized ODE (50 points)\n",
    "\n",
    "# inputs: \n",
    "#  1. optimization variable vector of the full-discretization NLP, y, as numpy array\n",
    "#  2. number of discretization intervals, M, as integer\n",
    "\n",
    "# output: \n",
    "#  1. vector of evaluated contraint expressions, c_k(y) for all k = 0,1 ... ,M-1, as numpy array\n",
    "#\n",
    "#  Note - Please ensure that the output is in the format (c_0', c_1', c_2', ... , c_M-1')' i.e. all column vectors \n",
    "#         c_k(y) are vertically collated into one big column vector, ceq, in the order shown.\n",
    "\n",
    "def cons(y, M):\n",
    "    \n",
    "    # YOUR CODE HERE\n",
    "    raise NotImplementedError()\n",
    "            \n",
    "    return ceq"
   ]
  },
  {
   "cell_type": "code",
   "execution_count": null,
   "metadata": {
    "deletable": false,
    "editable": false,
    "nbgrader": {
     "cell_type": "code",
     "checksum": "9920a0eaa706164b1ded02a92c9e9abe",
     "grade": true,
     "grade_id": "test_cons",
     "locked": true,
     "points": 50,
     "schema_version": 3,
     "solution": false,
     "task": false
    }
   },
   "outputs": [],
   "source": [
    "# please leave this cell as it is"
   ]
  },
  {
   "cell_type": "code",
   "execution_count": null,
   "metadata": {
    "deletable": false,
    "nbgrader": {
     "cell_type": "code",
     "checksum": "bdb0845a6062c3792fe7936567c90832",
     "grade": false,
     "grade_id": "obj",
     "locked": false,
     "schema_version": 3,
     "solution": true,
     "task": false
    }
   },
   "outputs": [],
   "source": [
    "# objective function (10 points)\n",
    "\n",
    "# inputs: \n",
    "#  1. optimization variable vector of the full-discretization NLP, y, as numpy array\n",
    "\n",
    "# output: \n",
    "#  1. objective function value \n",
    "\n",
    "def objective(y):\n",
    "\n",
    "    # YOUR CODE HERE\n",
    "    raise NotImplementedError()\n",
    "    \n",
    "    return obj"
   ]
  },
  {
   "cell_type": "code",
   "execution_count": null,
   "metadata": {
    "deletable": false,
    "editable": false,
    "nbgrader": {
     "cell_type": "code",
     "checksum": "82d008e77f71663307a6721d4e8341f6",
     "grade": true,
     "grade_id": "test_obj",
     "locked": true,
     "points": 10,
     "schema_version": 3,
     "solution": false,
     "task": false
    }
   },
   "outputs": [],
   "source": [
    "# please leave this cell as it is"
   ]
  },
  {
   "cell_type": "code",
   "execution_count": null,
   "metadata": {
    "deletable": false,
    "nbgrader": {
     "cell_type": "code",
     "checksum": "374246653c8da08a73bcd8745b651864",
     "grade": false,
     "grade_id": "main",
     "locked": false,
     "schema_version": 3,
     "solution": true,
     "task": false
    }
   },
   "outputs": [],
   "source": [
    "# main function (30 points)\n",
    "\n",
    "# inputs: \n",
    "#  1. number of discretization intervals, M, as integer\n",
    "\n",
    "# output: \n",
    "#  1. optimal objective function value \n",
    "#  2. optimal variable vector, y, as numpy array\n",
    "\n",
    "def run_optimization(M):\n",
    "\n",
    "    # YOUR CODE HERE\n",
    "    raise NotImplementedError()\n",
    "    \n",
    "    return objopt, yopt\n"
   ]
  },
  {
   "cell_type": "code",
   "execution_count": null,
   "metadata": {
    "deletable": false,
    "editable": false,
    "nbgrader": {
     "cell_type": "code",
     "checksum": "2466fd5523b3d56754df685aefe82c62",
     "grade": true,
     "grade_id": "test_main",
     "locked": true,
     "points": 30,
     "schema_version": 3,
     "solution": false,
     "task": false
    }
   },
   "outputs": [],
   "source": [
    "# please leave this cell as it is"
   ]
  }
 ],
 "metadata": {
  "kernelspec": {
   "display_name": "Python 3",
   "language": "python",
   "name": "python3"
  },
  "language_info": {
   "codemirror_mode": {
    "name": "ipython",
    "version": 3
   },
   "file_extension": ".py",
   "mimetype": "text/x-python",
   "name": "python",
   "nbconvert_exporter": "python",
   "pygments_lexer": "ipython3",
   "version": "3.6.8"
  }
 },
 "nbformat": 4,
 "nbformat_minor": 5
}
