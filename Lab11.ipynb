{
 "cells": [
  {
   "cell_type": "markdown",
   "metadata": {},
   "source": [
    "<div>\n",
    "<img src=\"figures/svtLogo.png\"/>\n",
    "</div>\n",
    "<h1><center>Mathematical Optimization for Engineers</center></h1>\n",
    "<h2><center>Lab 11 - Full discretization method</center></h2>"
   ]
  },
  {
   "cell_type": "markdown",
   "metadata": {},
   "source": [
    "$\\newcommand{\\ddt}[1]{\\frac{d#1}{dt}\\Bigr \\rvert_{t}}$\n",
    "In this exercise, we want to solve the van der Pol oscillator optimal control problem using the full discretization approach. \n",
    "The problem with state constraint is as follows: \n",
    "\n",
    "\n",
    "$\\begin{align}\n",
    "\\min_{x(\\cdot), u(\\cdot)} \\int_{t_{0}}^{t_{f}} x_1^2(t) &+ x_2^{2}(t) + u(t)^2 dt\\\\\n",
    "s.t.  \\ddt{x_1} &= (1-(x_2(t))^2)\\cdot x_1(t) - x_2(t) + u(t),\\quad t\\in [t_0,t_f], \\label{eq:vdp_b} \\\\\n",
    "\\ddt{x_2}&= x_1(t),\\quad t\\in [t_0,t_f] \\label{eq:vdp_a} \\\\\n",
    "\\ddt{x_3} &= ({x_1}(t))^2 + ({x_2}(t))^2+ (u(t))^2 \\quad t\\in [t_0,t_f] \\\\\n",
    "\\mathbf{x}(t_{0}) &= \\left[0.0, 1.0, 0.0 \\right]^{T} \\\\\n",
    "x_1(t) &\\geq - 0.4 \\quad \\forall t \\in [t_{0},t_{f}]\\\\\n",
    "-0.3 &\\leq u(t) \\leq 1.0 \\quad \\forall t \\in [t_{0},t_{f}]\\\\\n",
    "\\end{align}\n",
    "$\n",
    "\n",
    "\n",
    "Note that the objective function value can be determined from the value of the state $x_{3}$ and that $t_{f}=5$.\n",
    "\n",
    "\n",
    "For the full discretization approach, the differential equations are discretized usually by implicit Runge-Kutta methods. In this exercise, we will use the implicit Euler method due to its simplicity.\n",
    "\n"
   ]
  },
  {
   "cell_type": "markdown",
   "metadata": {
    "heading_collapsed": true
   },
   "source": [
    "### Imports"
   ]
  },
  {
   "cell_type": "code",
   "execution_count": null,
   "metadata": {
    "hidden": true
   },
   "outputs": [],
   "source": [
    "import numpy as np\n",
    "\n",
    "from scipy.optimize import minimize\n",
    "from scipy.optimize import Bounds\n",
    "from scipy.optimize import NonlinearConstraint\n",
    "\n",
    "from matplotlib import pyplot as plt"
   ]
  },
  {
   "cell_type": "markdown",
   "metadata": {
    "heading_collapsed": true
   },
   "source": [
    "### Right-hand side function of ODE"
   ]
  },
  {
   "cell_type": "code",
   "execution_count": null,
   "metadata": {
    "hidden": true
   },
   "outputs": [],
   "source": [
    "def eval_rhs(x, u):\n",
    "    # your code here\n",
    "    \n",
    "    return f"
   ]
  },
  {
   "cell_type": "markdown",
   "metadata": {},
   "source": [
    "### Constraints for optimization - discretized ODE"
   ]
  },
  {
   "cell_type": "code",
   "execution_count": null,
   "metadata": {},
   "outputs": [],
   "source": [
    "def cons(y, x0, finalTime, M, n_u):\n",
    "    # time step h (equidistant here)\n",
    "    # your code here\n",
    "    # number of states n_x\n",
    "    # your code here\n",
    "    ceq = np.zeros(n_x*M)\n",
    "\n",
    "    # backward Euler y_(k+1) = y_(k) + h.f(t_(k+1),y_(k+1))\n",
    "    \n",
    "    # evalue RHS first time step f1\n",
    "    # your code here\n",
    "    \n",
    "    # first element of constraint ceq[0:n_x]\n",
    "    # your code here\n",
    "        \n",
    "    # int(z) for z in [] just converts all elements in the list to integer\n",
    "    # it's an implementation detail because python only allows integer indices\n",
    "    \n",
    "    # second time step onward\n",
    "    for i in # your code here. #Hint: np.arange\n",
    "    \n",
    "        # populate equality constraints using the backward Euler method\n",
    "        # You could define indicies needed for the states and constraints\n",
    "        # your code here\n",
    "            \n",
    "    return ceq"
   ]
  },
  {
   "cell_type": "markdown",
   "metadata": {},
   "source": [
    "### Objective"
   ]
  },
  {
   "cell_type": "code",
   "execution_count": null,
   "metadata": {},
   "outputs": [],
   "source": [
    "def objective(y, x0):     \n",
    "    # define objective\n",
    "    # your code here\n",
    "    return obj"
   ]
  },
  {
   "cell_type": "markdown",
   "metadata": {},
   "source": [
    "### Setting up optimization problem and solve it"
   ]
  },
  {
   "cell_type": "code",
   "execution_count": null,
   "metadata": {
    "scrolled": false
   },
   "outputs": [],
   "source": [
    "n_x = 3 # dimension of state vector x \n",
    "n_u = 1 # dimension of control vector u\n",
    "\n",
    "M=50 # Number of discretization intervals\n",
    "\n",
    "x1_0 = 0 # initial value of x1\n",
    "x2_0 = 1 # initial value of x2\n",
    "x3_0 = 0 # initial value of x3\n",
    "\n",
    "x_initial = [0.0, 1.0, 0.0]\n",
    "finalTime = 5 # final time\n",
    "\n",
    "x1_min = # your code here # lower bound on x1\n",
    "u_min = # your code here # lower bound on u\n",
    "u_max = # your code here # upper bound on u\n",
    "\n",
    "\n",
    "n = # your code here # number of optimization variables\n",
    "iu = (np.arange(3,n,4)).astype(int) # indices of control variables\n",
    "ix1 = [int(z)-3 for z in iu] # indices of state x1\n",
    "ix2 = [int(z)-2 for z in iu] # indices of state x2\n",
    "ix3 = [int(z)-1 for z in iu] # indices of state x3\n",
    "\n",
    "lb = -float(\"inf\")*np.ones(n) # initialize lower bounds on all variables\n",
    "ub = float(\"inf\")*np.ones(n) # initialize upper bounds on all variables\n",
    "\n",
    "lb[iu] = # your code here) # lower bound of control \n",
    "ub[iu] = # your code here # upper bound of control\n",
    "lb[ix1] = # your code here # lower bound on x1\n",
    "\n",
    "\n",
    "\n",
    "x_guess = np.zeros(n)  # initial guess of optimzation variable\n",
    "\n",
    "x_guess[ix1] = x1_0  # initial guess for state x1\n",
    "x_guess[ix2] = x2_0  # initial guess for state x2\n",
    "x_guess[ix3] = x3_0  # initial guess for state x3\n",
    "\n",
    "x_guess[iu] = 0.0  # initial guess for control u\n",
    "\n",
    "bounds = Bounds(lb, ub)\n",
    "\n",
    "consWithInitial = lambda y: cons(y, x_initial, finalTime, M, n_u)\n",
    "\n",
    "\n",
    "nonlinear_constraints = NonlinearConstraint(consWithInitial, 0, 0)\n",
    "# call optimization with bounds, constraints and objective\n",
    "# your code here\n",
    "\n",
    "print('Optimal function value is')\n",
    "print(res.fun)"
   ]
  },
  {
   "cell_type": "markdown",
   "metadata": {},
   "source": [
    "### Plot trajectories"
   ]
  },
  {
   "cell_type": "code",
   "execution_count": null,
   "metadata": {},
   "outputs": [],
   "source": [
    "xopt = res.x\n",
    "\n",
    "t = np.linspace(0, finalTime, M+1)\n",
    "x1 = np.append([x1_0],list(xopt[np.arange(0,len(xopt),4)]))\n",
    "x2 = np.append([x2_0],list(xopt[np.arange(1,len(xopt),4)]))\n",
    "x3 = np.append([x3_0],list(xopt[np.arange(2,len(xopt),4)]))\n",
    "u = np.append([0.0],list(xopt[np.arange(3,len(xopt),4)]))\n",
    "\n",
    "plt.figure()\n",
    "ax1 = plt.axes(xlim=(-4,4), ylim=(-4, 4))\n",
    "plt.subplot(311)\n",
    "\n",
    "plt.subplot(221)\n",
    "plt.plot(t, x1)\n",
    "plt.title('x1')\n",
    "\n",
    "plt.subplot(222)\n",
    "plt.plot(t, x2)\n",
    "plt.title('x2')\n",
    "\n",
    "plt.subplot(223)\n",
    "plt.plot(t, x3)\n",
    "plt.title('x3')\n",
    "#\n",
    "plt.subplot(224)\n",
    "plt.plot(t, u)\n",
    "plt.title('u')\n",
    "\n",
    "plt.tight_layout()\n",
    "\n",
    "plt.show()\n"
   ]
  },
  {
   "cell_type": "code",
   "execution_count": null,
   "metadata": {},
   "outputs": [],
   "source": []
  }
 ],
 "metadata": {
  "kernelspec": {
   "display_name": "Python 3",
   "language": "python",
   "name": "python3"
  },
  "language_info": {
   "codemirror_mode": {
    "name": "ipython",
    "version": 3
   },
   "file_extension": ".py",
   "mimetype": "text/x-python",
   "name": "python",
   "nbconvert_exporter": "python",
   "pygments_lexer": "ipython3",
   "version": "3.6.8"
  }
 },
 "nbformat": 4,
 "nbformat_minor": 5
}
