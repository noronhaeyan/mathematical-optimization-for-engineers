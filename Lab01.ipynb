{
 "cells": [
  {
   "cell_type": "markdown",
   "metadata": {},
   "source": [
    "<div>\n",
    "<img src=\"figures/svtLogo.png\"/>\n",
    "</div>"
   ]
  },
  {
   "cell_type": "markdown",
   "metadata": {},
   "source": [
    "<center><h1>Mathematical Optimization for Engineers</h1></center>\n",
    "<center><h2>Lab 1</h2></center>\n",
    "$ \\def\\euro{\\unicode{x20AC}} $\n",
    "\n",
    "In this notebook, we will formulate the following optimization problem:\n",
    "\n",
    "The system shown in the figure below, is used for the production of vapor and electrical energy.\n",
    "<br>\n",
    "<br>\n",
    "<br>\n",
    "<div>\n",
    "<img src=\"figures/evaporator.png\" width=\"600\"/>\n",
    "</div>\n",
    "\n",
    "<br>\n",
    "<br>\n",
    "\n",
    "Two turbines are thereby employed:\n",
    "\n",
    "1. The first turbine expands in 3 stages: passing two intermediate flows $HE_1$ and $LE_1$, and the condensate flow $C$ in the final stage. \n",
    "<br>\n",
    "<br>\n",
    "2. The second turbine expands in 2 stages: passing one intermediate flow $HE_2$ and one outflow $LE_2$. \n",
    "\n",
    "Three pressure levels of the vapor are denoted by HPS, MPS and LPS (high, medium and low pressure sides, respectively). See the legend next to the figure for more details.\n",
    "<br>\n",
    "<br>\n",
    "The power output from the plant must be 24.5 MW (cf. Table 1 below). However, it is not clear, given all the operational constraints in Tables 1-5, how much power the plant can produce.\n",
    "\n",
    "Therefore, additional power $EP$ is purchased from an external provider. The provider has been assured that the purchased power will not be less than 12 MW. In case a lower amount is purchased, the part which is <u>not</u> purchased will be billed by the so-called 'demand penalty'.\n",
    "\n",
    "<u>Problem statement</u>:\n",
    "\n",
    "Formulate an optimization problem to determine the optimal plant operating point having the <b>minimal operational costs</b> in $\\euro/h$.\n",
    "\n",
    "<i>Plant operating point</i>, in simple words, means the values of all the physical quantities listed in the figure. For example, how much power is being produced by the two turbines ($P_1$ and $P_2$); how much additional power $EP$ is being purchased; what are the HPS, MPS and LPS flowrates; how much fuel is being consumed - to name a few.\n",
    "\n",
    "Since it is not clear, whether it would be cheaper to <br>\n",
    "(a) Purchase at least 12 MW additional power and avoid demand penalty or<br>\n",
    "(b) Purchase less than 12 MW additional power and pay demand penalty\n",
    "\n",
    "you need to look at both cases and find out the cheaper option.\n",
    "\n",
    "\n",
    "\n",
    "All required data to formulate the problem is given in the tables below."
   ]
  },
  {
   "cell_type": "markdown",
   "metadata": {},
   "source": [
    "<center><b>Table 1: Demand data</b>\n",
    "    \n",
    "    \n",
    "| Resource         |     Minimum Demand|\n",
    "|:-----------------|------------------:|\n",
    "| MPS              | 123 000 kg/h |\n",
    "| LPS              | 45 000 kg/h  |\n",
    "| Output power | 24.5 MW      |\n",
    "\n",
    "\n"
   ]
  },
  {
   "cell_type": "markdown",
   "metadata": {},
   "source": [
    "<center><b>Table 2: Price data</b>\n",
    "\n",
    "|                                     |       |\n",
    "|:------------------------------------|:------|\n",
    "| Cost of fuel \\[$\\euro$/10<sup>6</sup>kJ\\]     | 1.5   |\n",
    "| Cost of condensate loss \\[$\\euro$/Kg\\]             | 0.008 |\n",
    "| Cost of produced electrical power \\[$\\euro$/kWh\\]  | 0.02  |\n",
    "| Cost of purchased electrical power \\[$\\euro$/kWh\\] | 0.05  |\n",
    "| Demand penalty \\[$\\euro$/kWh\\]             | 0.001 |"
   ]
  },
  {
   "cell_type": "markdown",
   "metadata": {},
   "source": [
    "<center><b>Table 3: Turbine data</b>\n",
    "    \n",
    "    \n",
    "| Parameters                    | Turbine 1 | Turbine 2 |\n",
    "|:------------------------------|:----------|:----------|\n",
    "| Max. power \\[kW\\]             | 6250      | 9000      |\n",
    "| Min. power \\[kW\\]             | 2500      | 3000      |\n",
    "| Max. inflow \\[kg/h\\]          | 87 000    | 110 000   |\n",
    "| Max. LPS-flow \\[kg/h\\]        | \\-        | 64 000    |\n",
    "| Max. condensate flow \\[kg/h\\] | 28 000    | \\-        |\n",
    "| Max. internal flow \\[kg/h\\]   | 60 000    | \\-        |"
   ]
  },
  {
   "cell_type": "markdown",
   "metadata": {},
   "source": [
    "<center><b>Table 4: Working fluid data</b>\n",
    "    \n",
    "    \n",
    "| Stage        | Enthalpy \\[kJ/kg\\] |\n",
    "|:-------------------|-------------------:|\n",
    "| HPS                | 3163               |\n",
    "| MPS                | 2949               |\n",
    "| LPS                | 2911               |\n",
    "| Condensate         | 449                |"
   ]
  },
  {
   "cell_type": "markdown",
   "metadata": {},
   "source": [
    "<center><b>Table 5: Miscellaneous</b>\n",
    "    \n",
    "|                                     |       |\n",
    "|:------------------------------------|:------|\n",
    "| Evaporator efficiency               | 0.75  |\n",
    "| Turbine efficiencies               | 1.0  |\n",
    "| Basic additional power \\[MW\\]                  | 12    |"
   ]
  },
  {
   "cell_type": "markdown",
   "metadata": {},
   "source": [
    "<u>Task 1</u>: First of all, think why do we need optimization here. Is it obvious, what the optimial operating point is?"
   ]
  },
  {
   "cell_type": "markdown",
   "metadata": {},
   "source": [
    "<u>Task 2</u>: Identify the variables of the optimization problem."
   ]
  },
  {
   "cell_type": "markdown",
   "metadata": {},
   "source": [
    "<u>Task 3</u>: Formulate the objective functions for the two cases:<br>\n",
    "<br>\n",
    "(a) $\\quad$ If $EP \\ge 12000$ [kW] <br>\n",
    "<br>\n",
    "(b) $\\quad$ If $0  \\le EP \\lt 12000$ [kW]\n",
    "<br>\n",
    "<br>\n",
    "<i>Hint: The objective function comprises the sum of all operational costs and the demand penalty, if applicable. </i>"
   ]
  },
  {
   "cell_type": "markdown",
   "metadata": {},
   "source": [
    "<u>Task 4</u>: Using the data from Tables 1-5, write down all the mass and energy balances in the system (in other words, write down the model of the system).\n",
    "\n",
    "<i>Hint: Some of the model equations are:\n",
    "<br>\n",
    "<br>\n",
    "$\\quad$ Mass balances like $\\quad HPS = I_1 + I_2 + BF_1$\n",
    "<br>\n",
    "<br>\n",
    "$\\quad$ Energy balances like $\\quad 3163\\,I_1 = 2949\\,HE_1 + 2911\\,LE_1 + 449\\,C + 3600\\,P_1$"
   ]
  },
  {
   "cell_type": "markdown",
   "metadata": {},
   "source": [
    "<u>Task 5</u>: Complete the problem formulation by considering all remaining constraints and upper and lower bounds on variables.\n",
    "\n",
    "<i>Hint: Upper and lower bounds on variables such as:\n",
    "<br>\n",
    "<br>\n",
    "$\\quad$ $2500 \\le  P_1 \\le 6250$</i>"
   ]
  },
  {
   "cell_type": "markdown",
   "metadata": {},
   "source": [
    "<u>Task 6:</u> Which class of optimization problems did we work with?"
   ]
  }
 ],
 "metadata": {
  "kernelspec": {
   "display_name": "Python 3",
   "language": "python",
   "name": "python3"
  },
  "language_info": {
   "codemirror_mode": {
    "name": "ipython",
    "version": 3
   },
   "file_extension": ".py",
   "mimetype": "text/x-python",
   "name": "python",
   "nbconvert_exporter": "python",
   "pygments_lexer": "ipython3",
   "version": "3.6.8"
  }
 },
 "nbformat": 4,
 "nbformat_minor": 2
}
