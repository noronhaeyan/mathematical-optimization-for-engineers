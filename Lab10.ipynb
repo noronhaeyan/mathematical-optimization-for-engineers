{
 "cells": [
  {
   "cell_type": "markdown",
   "metadata": {},
   "source": [
    "<div>\n",
    "<img src=\"figures/svtLogo.png\"/>\n",
    "</div>  "
   ]
  },
  {
   "cell_type": "markdown",
   "metadata": {},
   "source": [
    "<center><h1>Mathematical Optimization for Engineers</h1></center>\n",
    "<center><h2>Lab 10 - Deterministic Global Optmization</h2></center>"
   ]
  },
  {
   "cell_type": "markdown",
   "metadata": {},
   "source": [
    "In this exercise, we'll look at deterministic global optimization of boxconstrained two-dimensional non-convex problems. We will implement the branch-and-bound method and use the $\\alpha$BB method to construct convex relaxations of non-convex objective functions.\n",
    "<br>\n",
    "<br>\n",
    "$$\\begin{aligned}\n",
    "        \\min_{\\mathbf x\\in X} \\quad f(\\mathbf x) \\\\\n",
    "        %\\mbox{s.t. } \\quad g & \\; \\leq \\; 15 \\\\\n",
    "\\end{aligned}$$\n",
    "<br>\n",
    "<br>\n",
    "<u>Task</u>: Go through the code and fill in the missing bits to complete the implementation. Missing bits are marked with the comment <i># add your code here</i>"
   ]
  },
  {
   "cell_type": "code",
   "execution_count": null,
   "metadata": {},
   "outputs": [],
   "source": [
    "import numpy as np\n",
    "\n",
    "# we will use a local solver from scipy for upper-bounding problem\n",
    "from scipy import optimize as sp\n",
    "\n",
    "# to construct relaxations for lower-bounding problem\n",
    "from math import inf, sin, cos, sqrt\n",
    "\n",
    "# for branching\n",
    "import copy\n",
    "\n",
    "# for plotting\n",
    "import matplotlib.pyplot as plt\n",
    "from mpl_toolkits import mplot3d\n",
    "from matplotlib import cm"
   ]
  },
  {
   "cell_type": "markdown",
   "metadata": {},
   "source": [
    "### Objective functions, to experiment on: \n",
    "Return $f(\\mathbf x)$ for input $\\mathbf x$"
   ]
  },
  {
   "cell_type": "code",
   "execution_count": null,
   "metadata": {},
   "outputs": [],
   "source": [
    "def sixhump(x): #scipy-lectures.org/intro/scipy/auto_examples/plot_2d_minimization.html\n",
    "    return ((4 - 2.1*x[0]**2 + x[0]**4 / 3.) * x[0]**2 + x[0] * x[1] + (-4 + 4*x[1]**2) * x[1] **2)"
   ]
  },
  {
   "cell_type": "code",
   "execution_count": null,
   "metadata": {},
   "outputs": [],
   "source": [
    "def adjiman (X):\n",
    "    x, y = X[0], X[1]\n",
    "    return (np.cos(x) * np.sin(y)) - (x / (y**2.0 + 1.0))"
   ]
  },
  {
   "cell_type": "code",
   "execution_count": null,
   "metadata": {},
   "outputs": [],
   "source": [
    "def schwefel(x):\n",
    "    n = 2\n",
    "    s = 0\n",
    "    for i in range(0,n):\n",
    "        s = s - 1 * x[i] * sin(sqrt(abs(x[i])))\n",
    "    y = 418.9829 * n + s\n",
    "    return y"
   ]
  },
  {
   "cell_type": "code",
   "execution_count": null,
   "metadata": {},
   "outputs": [],
   "source": [
    "def griewank(x):\n",
    "    x1 = x[0]\n",
    "    x2 = x[1]\n",
    "    sum = 0\n",
    "    prod = 1\n",
    "\n",
    "    sum = sum + x1 ** 2 / 4000\n",
    "    prod = prod * np.cos(x1 / sqrt(1))\n",
    "\n",
    "    sum = sum + x2 ** 2 / 4000\n",
    "    prod = prod * np.cos(x2 / sqrt(2))\n",
    "\n",
    "    y = sum - prod + 1\n",
    "    return y"
   ]
  },
  {
   "cell_type": "code",
   "execution_count": null,
   "metadata": {},
   "outputs": [],
   "source": [
    "def camel3(xx):\n",
    "\n",
    "    x1 = xx[0]\n",
    "    x2 = xx[1]\n",
    "\n",
    "    term1 = 2*x1**2\n",
    "    term2 = -1.05*x1**4\n",
    "    term3 = x1**6 / 6\n",
    "    term4 = x1*x2\n",
    "    term5 = x2**2\n",
    "    return  term1 + term2 + term3 + term4 + term5"
   ]
  },
  {
   "cell_type": "markdown",
   "metadata": {},
   "source": [
    "### Compute convex relaxations using $\\alpha$BB method\n",
    "Returns cv($f(\\mathbf x)$), for inputs $\\mathbf x,\\; f(\\mathbf x),\\; \\alpha,\\; \\mathbf x^L\\;$and $\\mathbf x^U$"
   ]
  },
  {
   "cell_type": "code",
   "execution_count": null,
   "metadata": {},
   "outputs": [],
   "source": [
    "def relaxedFunction(x, function, alpha, lb, ub): \n",
    "    # using alphaBB method\n",
    "    \n",
    "    lb = np.array(lb)\n",
    "    ub = np.array(ub)\n",
    "    y = # add your code here\n",
    "\n",
    "    return y"
   ]
  },
  {
   "cell_type": "markdown",
   "metadata": {},
   "source": [
    "### Compute upper bound for current node\n",
    "Writes \"ubd\" attribute of newly created nodes. Returns updated list of nodes."
   ]
  },
  {
   "cell_type": "code",
   "execution_count": null,
   "metadata": {},
   "outputs": [],
   "source": [
    "def computeUpperBounds(nodes, objective):\n",
    "    for iNode in nodes:\n",
    "        if iNode[\"ubd\"] == inf: \n",
    "            x0 = (np.array(iNode[\"lb\"]) + np.array(iNode[\"ub\"]))/2\n",
    "            bnds = []\n",
    "            for i in range(0, len(lb)):\n",
    "                bnds.append((iNode[\"lb\"][i], iNode[\"ub\"][i]))\n",
    "    \n",
    "            solUBD = sp.minimize(objective, x0, bounds = bnds, method='L-BFGS-B', jac=None)\n",
    "            iNode[\"ubd\"] = solUBD.fun\n",
    "            \n",
    "    return nodes"
   ]
  },
  {
   "cell_type": "markdown",
   "metadata": {},
   "source": [
    "### Compute lower bound for current node\n",
    "Writes \"lbd\" attribute of newly created nodes. Returns updated list of nodes."
   ]
  },
  {
   "cell_type": "code",
   "execution_count": null,
   "metadata": {},
   "outputs": [],
   "source": [
    "def computeLowerBounds(nodes, objective, alpha):\n",
    "    for iNode in nodes:\n",
    "        if iNode[\"ubd\"] == inf: \n",
    "            x0 = (np.array(iNode[\"lb\"]) + np.array(iNode[\"ub\"]))/2\n",
    "            bnds = []\n",
    "            for i in range(0, len(lb)):\n",
    "                bnds.append((iNode[\"lb\"][i], iNode[\"ub\"][i]))\n",
    "            \n",
    "    \n",
    "            solLBD = sp.minimize(relaxedFunction, x0, args=(objective, alpha, iNode[\"lb\"], iNode[\"ub\"]), bounds = bnds, method='L-BFGS-B', jac=None)\n",
    "            iNode[\"lbd\"] = solLBD.fun\n",
    "            \n",
    "    return nodes"
   ]
  },
  {
   "cell_type": "markdown",
   "metadata": {},
   "source": [
    "### Branch "
   ]
  },
  {
   "cell_type": "code",
   "execution_count": null,
   "metadata": {},
   "outputs": [],
   "source": [
    "def branching(nodes, globalLBD): \n",
    "    epsilonF = 0.001\n",
    "    \n",
    "    chosenNode = nodes[0]\n",
    "    # choose node with lowest LBD \n",
    "    for iNode in nodes: \n",
    "        if iNode[\"lbd\"] <= globalLBD + epsilonF:\n",
    "            chosenNode = iNode\n",
    "            break\n",
    "    \n",
    "    # branch on variable with largest variable bounds\n",
    "    delta = np.array(chosenNode[\"ub\"]) - np.array(iNode[\"lb\"])\n",
    "    indVariable = np.argmax(delta)\n",
    "    print(\"max delta: \", max(delta))\n",
    "    \n",
    "    # simply branch in the middle\n",
    "    iNodeLeft = copy.deepcopy(chosenNode)\n",
    "    iNodeLeft[\"ub\"][indVariable] = # add your code here\n",
    "    iNodeLeft[\"lbd\"] = - inf\n",
    "    iNodeLeft[\"ubd\"] = + inf\n",
    "\n",
    "    \n",
    "    iNodeRight = copy.deepcopy(chosenNode)\n",
    "    iNodeRight[\"lb\"][indVariable] = iNodeLeft[\"ub\"][indVariable]\n",
    "    iNodeRight[\"lbd\"] = - inf\n",
    "    iNodeRight[\"ubd\"] = + inf\n",
    "\n",
    "    \n",
    "    # bookkeeping\n",
    "    nodes.remove(chosenNode)\n",
    "    nodes.append(iNodeLeft)\n",
    "    nodes.append(iNodeRight)\n",
    "       \n",
    "    \n",
    "    return nodes"
   ]
  },
  {
   "cell_type": "markdown",
   "metadata": {},
   "source": [
    "### Fathoming\n",
    "Returns true or false for given node and global upper bound."
   ]
  },
  {
   "cell_type": "code",
   "execution_count": null,
   "metadata": {},
   "outputs": [],
   "source": [
    "def fathom(iNode, globalUBD):\n",
    "    # fathom if true\n",
    "    if # add your code here:\n",
    "        return True\n",
    "    else:\n",
    "        return False"
   ]
  },
  {
   "cell_type": "markdown",
   "metadata": {},
   "source": [
    "### Main function\n",
    "Returns global minimum for given objective function, box constraints: $\\mathbf x^L\\;$and $\\mathbf x^U$, and $\\alpha$."
   ]
  },
  {
   "cell_type": "code",
   "execution_count": null,
   "metadata": {},
   "outputs": [],
   "source": [
    "def branchAndBoundAlgorithm(objective, lb, ub, alpha):\n",
    " \n",
    "    foundGlobalSolution = False\n",
    "    epsilonF = 0.001 # absolute tolerance\n",
    "    UBD = inf\n",
    "    LBD = -inf\n",
    "    nodes = []\n",
    "\n",
    "    # initial point\n",
    "    x0 = (np.array(lb) + np.array(ub))/2\n",
    "    \n",
    "    bnds = []\n",
    "    for i in range(0, len(lb)):\n",
    "        bnds.append((lb[i], ub[i]))\n",
    "    \n",
    "    # compute upper bound\n",
    "    solUBD = sp.minimize(objective, x0, bounds = bnds, method='L-BFGS-B', jac=None)\n",
    "    # compute lower bound \n",
    "    solLBD = sp.minimize(relaxedFunction, x0, bounds = bnds, args=(objective, alpha, lb, ub), method='L-BFGS-B', jac=None)\n",
    "    \n",
    "    # current global upper and lower bounds\n",
    "    UBD = solUBD.fun\n",
    "    LBD = solLBD.fun\n",
    "    \n",
    "    # create first node\n",
    "    node = {\n",
    "        \"ubd\": solUBD.fun,\n",
    "        \"lbd\": solLBD.fun,\n",
    "        \"lb\": lb,\n",
    "        \"ub\": ub\n",
    "    }\n",
    "    nodes.append(node)\n",
    "    \n",
    "    iteration = 0\n",
    "    while not foundGlobalSolution: \n",
    "        # convergence check \n",
    "        if ( UBD - LBD ) < epsilonF:\n",
    "            foundGlobalSolution = True\n",
    "            print(\"diff \", UBD - LBD)\n",
    "            print(\"upper bound: \", UBD, \"lower bound: \", LBD)\n",
    "            break\n",
    "        iteration = iteration + 1\n",
    "        print(\"iter: \", iteration)\n",
    "        print(\"epsilionF: \", UBD-LBD, \"UBD: \", UBD, \"LBD: \", LBD)       \n",
    "        \n",
    "        # branching (on largest diameter of local variable bounds) \n",
    "        nodes = branching(nodes, LBD)\n",
    "           \n",
    "        # compute lower bound for newly created nodes\n",
    "        nodes = computeLowerBounds(nodes, objective, alpha)\n",
    "        \n",
    "        # compute upper bound for newly created nodes\n",
    "        nodes = computeUpperBounds(nodes, objective)\n",
    "        \n",
    "        # update global LBD and UBD\n",
    "        LBD = inf\n",
    "        for iNode in nodes: \n",
    "            LBD = min(LBD, iNode[\"lbd\"])\n",
    "            UBD = min(UBD, iNode[\"ubd\"])\n",
    "        \n",
    "        # fathoming\n",
    "        nodes[:] = [x for x in nodes if not fathom(x, UBD)]\n",
    "        \n",
    "    \n",
    "    return UBD"
   ]
  },
  {
   "cell_type": "markdown",
   "metadata": {},
   "source": [
    "### Plot objective function and relxation for the first node"
   ]
  },
  {
   "cell_type": "code",
   "execution_count": null,
   "metadata": {},
   "outputs": [],
   "source": [
    "# you can ignore this cell - it's only for making nice plots\n",
    "def plotFunctionAndRelaxation(function, lb, ub, alpha): \n",
    "\n",
    "    # define domain\n",
    "    numElem = 50\n",
    "    X = np.linspace(lb[0],ub[0], numElem, endpoint=True)\n",
    "    Y = np.linspace(lb[1],ub[1], numElem, endpoint=True)\n",
    "    X, Y = np.meshgrid(X, Y)\n",
    "\n",
    "    # figure\n",
    "    fig = plt.figure(figsize=(10,10)) \n",
    "    ax = fig.add_subplot(111,projection='3d' )\n",
    "    \n",
    "    # plot relaxation\n",
    "    zs = []\n",
    "    XX = np.ravel(X)\n",
    "    YY = np.ravel(Y)\n",
    "    for indX, x in enumerate(XX):\n",
    "        zs.append(relaxedFunction(np.array([XX[indX], YY[indX]]), function, alpha, lb, ub))\n",
    "    zs = np.array(zs)\n",
    "    ZZ = zs.reshape(X.shape)\n",
    "    ax.plot_wireframe(X,Y,ZZ, color='red')\n",
    "    \n",
    "    \n",
    "    # plot original function\n",
    "    zs = np.array(function([np.ravel(X), np.ravel(Y)])) # for normal function this might work as long as there is no vector math\n",
    "    Z = zs.reshape(X.shape)\n",
    "    \n",
    "    # Surface plot:\n",
    "    plt.get_cmap('jet')\n",
    "    ax.plot_surface(X, Y, Z,  cmap=plt.get_cmap('coolwarm'), antialiased=True)     \n",
    "    \n",
    "    plt.show()\n",
    "    "
   ]
  },
  {
   "cell_type": "markdown",
   "metadata": {},
   "source": [
    "### Solve the following global optimization problems"
   ]
  },
  {
   "cell_type": "code",
   "execution_count": null,
   "metadata": {},
   "outputs": [],
   "source": [
    "# objective function: camel 3\n",
    "lb = [-4.0, -5.0]\n",
    "ub = [4.0, 5.0]\n",
    "alpha = 0.5\n",
    "\n",
    "plotFunctionAndRelaxation(camel3, lb, ub, alpha)\n",
    "UBD = branchAndBoundAlgorithm(camel3, lb, ub, alpha)"
   ]
  },
  {
   "cell_type": "code",
   "execution_count": null,
   "metadata": {},
   "outputs": [],
   "source": [
    "# objective function: adjiman\n",
    "lb = [-4.0, -5.0]\n",
    "ub = [4.0, 5.0]\n",
    "alpha = 0.5\n",
    "\n",
    "plotFunctionAndRelaxation(adjiman, lb, ub, alpha)\n",
    "UBD = branchAndBoundAlgorithm(adjiman, lb, ub, alpha)"
   ]
  },
  {
   "cell_type": "code",
   "execution_count": null,
   "metadata": {},
   "outputs": [],
   "source": [
    "# objective function: griewank\n",
    "lb = [-5.0, -5.0]\n",
    "ub = [3.0, 3.0]\n",
    "alpha = 0.4\n",
    "plotFunctionAndRelaxation(griewank, lb, ub, alpha)\n",
    "UBD = branchAndBoundAlgorithm(griewank, lb, ub, alpha)"
   ]
  },
  {
   "cell_type": "code",
   "execution_count": null,
   "metadata": {},
   "outputs": [],
   "source": []
  }
 ],
 "metadata": {
  "kernelspec": {
   "display_name": "Python 3",
   "language": "python",
   "name": "python3"
  },
  "language_info": {
   "codemirror_mode": {
    "name": "ipython",
    "version": 3
   },
   "file_extension": ".py",
   "mimetype": "text/x-python",
   "name": "python",
   "nbconvert_exporter": "python",
   "pygments_lexer": "ipython3",
   "version": "3.6.8"
  }
 },
 "nbformat": 4,
 "nbformat_minor": 2
}
