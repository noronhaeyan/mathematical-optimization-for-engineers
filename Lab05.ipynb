{
 "cells": [
  {
   "cell_type": "markdown",
   "metadata": {},
   "source": [
    "<div>\n",
    "<img src=\"figures/svtLogo.png\"/>\n",
    "</div>"
   ]
  },
  {
   "cell_type": "markdown",
   "metadata": {},
   "source": [
    "<center><h1>Mathematical Optimization for Engineers</h1></center>\n",
    "<center><h2>Lab 5 - KKT Conditions of Optimality</h2></center>"
   ]
  },
  {
   "cell_type": "markdown",
   "metadata": {},
   "source": [
    "### KKT conditions for equality-constrained problems\n",
    "\n",
    "We consider the following optimization problem \n",
    "\n",
    "$$\\begin{aligned}\n",
    "\\displaystyle \\min_{x_1,x_2} \\;\\; &x_1+x_2 \\\\\n",
    "\\mbox{s.t. } \\; &x_2=x_1 ^2-2.\n",
    "\\end{aligned}$$"
   ]
  },
  {
   "cell_type": "markdown",
   "metadata": {},
   "source": [
    "<u>Task 1</u>: Reformulate the optimization problem with the general nomenclature\n",
    "of the Lecture in terms of $f$ and $c_{i}$."
   ]
  },
  {
   "cell_type": "markdown",
   "metadata": {},
   "source": [
    "<u>Task 2</u>: What are the gradients of the objective function and the equality\n",
    "constraint function?"
   ]
  },
  {
   "cell_type": "markdown",
   "metadata": {},
   "source": [
    "<u>Task 3</u>: Sketch the feasible region of the optimization problem for\n",
    "$x_1 \\in [-2,2]$ and $x_2 \\in [-2,3]$; add the contour lines of the\n",
    "objective function; add the direction of the gradients of the\n",
    "objective function and the equality constraint."
   ]
  },
  {
   "cell_type": "markdown",
   "metadata": {},
   "source": [
    "<u>Task 4</u>: Set up the Langrangian function for this optimization problem"
   ]
  },
  {
   "cell_type": "markdown",
   "metadata": {},
   "source": [
    "<u>Task 5</u>: Write down the KKT-conditions with respect to this optimization\n",
    "problem"
   ]
  },
  {
   "cell_type": "markdown",
   "metadata": {},
   "source": [
    "<u>Task 6</u>: Solve manually the KKT-conditions for $x_1$, $x_2$ and the Lagrange\n",
    "multiplier."
   ]
  },
  {
   "cell_type": "markdown",
   "metadata": {},
   "source": [
    "<u>Task 7</u>: Solve numerically (with `fsolve` from scipy.optimize) the KKT-conditions for\n",
    "$x_1$, $x_2$ and the Lagrange multiplier."
   ]
  },
  {
   "cell_type": "code",
   "execution_count": null,
   "metadata": {
    "scrolled": true
   },
   "outputs": [],
   "source": [
    "from scipy import optimize as opt\n",
    "import numpy as np\n",
    "\n",
    "def kkt_conditions(y):\n",
    "    conditions = np.zeros(len(y))\n",
    "    x1 = y[0]\n",
    "    x2 = y[1]\n",
    "    l = y[2]\n",
    "    \n",
    "    # add your code here\n",
    "    \n",
    "    return conditions\n",
    "    \n",
    "\n",
    "y0 = np.array([-1.0, -1.0, -1.0]) # initial guess \n",
    "\n",
    "res = opt.fsolve(kkt_conditions, y0, full_output=False)\n",
    "\n",
    "print (\"x1 = {:.2f} \\nx2 = {:.2f} \\nl = {:.2f}\".format(res[0],res[1],res[2]))"
   ]
  },
  {
   "cell_type": "markdown",
   "metadata": {},
   "source": [
    "### KKT conditions for inequality-constrained problems\n",
    "\n",
    "We consider the following optimization problem \n",
    "\n",
    "$$\\begin{aligned}\n",
    "\\displaystyle \\min_{x_1,x_2} \\quad &x_1+x_2 \\\\\n",
    "\\mbox{s.t. } \\; &x_1 \\geq -2 \\\\\n",
    "&x_2  \\geq -2\n",
    "\\end{aligned}$$"
   ]
  },
  {
   "cell_type": "markdown",
   "metadata": {},
   "source": [
    "<u>Task 1</u>: Reformulate the optimization problem with the general nomenclature\n",
    "of the Lecture in terms of $f$ and $c_{i}$."
   ]
  },
  {
   "cell_type": "markdown",
   "metadata": {},
   "source": [
    "<u>Task 2</u>: -   What are the gradients of the objective function and the inequality constraints?"
   ]
  },
  {
   "cell_type": "markdown",
   "metadata": {},
   "source": [
    "<u>Task 3</u>: -   Sketch the feasible region of the optimization problem for\n",
    "$x_1 \\in [-3,1]$ and $x_2 \\in [-3,1]$; add the contour lines of the\n",
    "objective function; add the direction of the gradients of the\n",
    "objective function and the inequality constraints."
   ]
  },
  {
   "cell_type": "markdown",
   "metadata": {},
   "source": [
    "<u>Task 4</u>: Set up the Langrangian function for this optimization problem"
   ]
  },
  {
   "cell_type": "markdown",
   "metadata": {},
   "source": [
    "<u>Task 5</u>: Write down the KKT-conditions with respect to this optimization\n",
    "problem"
   ]
  },
  {
   "cell_type": "markdown",
   "metadata": {},
   "source": [
    "<u>Task 6</u>: Solve manually the KKT-conditions for $x_1$, $x_2$ and the Lagrange\n",
    "multiplier."
   ]
  },
  {
   "cell_type": "markdown",
   "metadata": {},
   "source": [
    "### A degenerate case\n",
    "\n",
    "We consider the following optimization problem \n",
    "\n",
    "$$\\begin{aligned}\n",
    "\\displaystyle \\min_{x_1,x_2} \\quad &x_1 \\\\\n",
    "\\mbox{s.t. } \\;  &x_{2} \\leq 0 \\\\\n",
    "&x_{1}^{2} - x_{2} \\leq 0\\,.\n",
    "\\end{aligned}$$"
   ]
  },
  {
   "cell_type": "markdown",
   "metadata": {},
   "source": [
    "<u>Task 1</u>: Write down the KKT-conditions with respect to this optimization\n",
    "problem"
   ]
  },
  {
   "cell_type": "markdown",
   "metadata": {},
   "source": [
    "<u>Task 2</u>: Solve manually the KKT-conditions for $x_1$, $x_2$ and the Lagrange\n",
    "multipliers."
   ]
  },
  {
   "cell_type": "markdown",
   "metadata": {},
   "source": [
    "<u>Task 3</u>: Sketch the feasible region of the optimization problem; add the contour lines of the\n",
    "objective function; add the direction of the gradients of the objective function and the constraints. Where is the optimum?"
   ]
  }
 ],
 "metadata": {
  "kernelspec": {
   "display_name": "Python 3",
   "language": "python",
   "name": "python3"
  },
  "language_info": {
   "codemirror_mode": {
    "name": "ipython",
    "version": 3
   },
   "file_extension": ".py",
   "mimetype": "text/x-python",
   "name": "python",
   "nbconvert_exporter": "python",
   "pygments_lexer": "ipython3",
   "version": "3.8.8"
  }
 },
 "nbformat": 4,
 "nbformat_minor": 2
}
