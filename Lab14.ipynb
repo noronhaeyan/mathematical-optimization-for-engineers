{
 "cells": [
  {
   "cell_type": "markdown",
   "metadata": {},
   "source": [
    "<div>\n",
    "<img src=\"figures/svtLogo.png\"/>\n",
    "</div>\n",
    "<h1><center>Mathematical Optimization for Engineers</center></h1>\n",
    "<h2><center>Lab 14 - Uncertainty</center></h2>"
   ]
  },
  {
   "cell_type": "markdown",
   "metadata": {},
   "source": [
    "We want to optimize the total annualized cost of a heating and electric power system. Three different technologies are present: \n",
    "- a gas boiler\n",
    "- a combined heat and power plant\n",
    "- a photovoltaic module\n",
    "\n",
    "We first the the nominal case without uncertanties. \n",
    "Next, we will consider a two-stage approach to consider uncertainties in the electricity demand and the power producable via PV. \n",
    "Uncertain variables are the solar power and the power demand. "
   ]
  },
  {
   "cell_type": "code",
   "execution_count": null,
   "metadata": {},
   "outputs": [],
   "source": [
    "# import cell\n",
    "from scipy.optimize import minimize, NonlinearConstraint, Bounds"
   ]
  },
  {
   "cell_type": "code",
   "execution_count": null,
   "metadata": {},
   "outputs": [],
   "source": [
    "class Boiler():\n",
    "    \"\"\"Boiler \n",
    "    Gas in, heat out\n",
    "    \"\"\"\n",
    "    \n",
    "    def __init__(self):\n",
    "        self.M = 0.75  \n",
    "        \n",
    "    def invest_cost(self, Qdot_nom):\n",
    "        inv = 100 * Qdot_nom ** self.M\n",
    "        return inv\n",
    "    \n",
    "    def oper_cost(self, Qdot_nom, op_load): \n",
    "        cost_gas = 60\n",
    "        cost_gas_oper = Qdot_nom * cost_gas * op_load\n",
    "        \n",
    "        return cost_gas_oper\n",
    "    \n",
    "    def heat(self, Qdot_nom, op_load):\n",
    "        eta_th = 0.9 - (1 - op_load) * 0.05\n",
    "        return Qdot_nom * op_load * eta_th\n",
    "    "
   ]
  },
  {
   "cell_type": "code",
   "execution_count": null,
   "metadata": {},
   "outputs": [],
   "source": [
    "class CHP():\n",
    "    \"\"\"Combined-heat-and-power (CHP) engine \n",
    "    Gas in, heat and power out\n",
    "    \"\"\"\n",
    "\n",
    "    def __init__(self):\n",
    "        self.c_ref = 150\n",
    "        self.M = 0.80  # [-], cost exponent\n",
    "        self.cost_gas = 60\n",
    "    \n",
    "    def invest_cost(self, Qdot_nom):\n",
    "        inv = self.c_ref * (Qdot_nom) ** self.M\n",
    "        return inv\n",
    "    \n",
    "    def oper_cost(self, Qdot_nom, op_load): \n",
    "        cost_gas_oper = Qdot_nom * op_load * self.cost_gas\n",
    "        return cost_gas_oper\n",
    "    \n",
    "    def elec_out(self, Qdot_nom, op_load):\n",
    "        eta_el = 0.3 - (1 - op_load) * 0.1\n",
    "        out_pow = eta_el * Qdot_nom * op_load\n",
    "        return out_pow\n",
    "    \n",
    "    def heat(self, Qdot_nom, op_load): \n",
    "        eta_th = 0.6 - (1-op_load) * 0.05  \n",
    "        return Qdot_nom * eta_th * op_load\n"
   ]
  },
  {
   "cell_type": "code",
   "execution_count": null,
   "metadata": {},
   "outputs": [],
   "source": [
    "class PV:\n",
    "    \"\"\"Photovoltaic modules (PV) \n",
    "    solar \n",
    "    \"\"\" \n",
    "    \n",
    "    def __init__(self): \n",
    "        self.M = 0.9  # [-], cost exponent\n",
    "       \n",
    "    def invest_cost(self, p_nom):\n",
    "        inv = 200 * p_nom ** self.M\n",
    "        return inv\n",
    "    \n",
    "    def oper_cost(self, out_nom): \n",
    "        return 0\n",
    "    \n",
    "    def elec_out(self, p_nom, op_load, solar):\n",
    "        return p_nom * op_load * solar\n",
    "    "
   ]
  },
  {
   "cell_type": "code",
   "execution_count": null,
   "metadata": {},
   "outputs": [],
   "source": [
    "def objective_function(x, PV, Boiler, CHP, scenarios):\n",
    "    total_cost = 0\n",
    "    design_PV = x[0]  \n",
    "    design_boiler = x[1]  \n",
    "    design_CHP = x[2] \n",
    "    \n",
    "    # investment costs\n",
    "    # your code here\n",
    "    \n",
    "    # expected operating costs\n",
    "    # your code here\n",
    "   \n",
    "    return total_cost"
   ]
  },
  {
   "cell_type": "code",
   "execution_count": null,
   "metadata": {},
   "outputs": [],
   "source": [
    "def constraint_function(x, PV, Boiler, CHP, scenarios): \n",
    "    heat_demand = 200\n",
    "    \n",
    "    design_PV = x[0]  \n",
    "    design_boiler = x[1]  \n",
    "    design_CHP = x[2] \n",
    "\n",
    "    # loop over all uncertatintes\n",
    "    \n",
    "        \n",
    "        # heat demand\n",
    "        \n",
    "        # electricty demand \n",
    "        \n",
    "   \n",
    "    return c"
   ]
  },
  {
   "cell_type": "code",
   "execution_count": null,
   "metadata": {},
   "outputs": [],
   "source": [
    "def print_solution(x):\n",
    "    print('PV design: ', x[0])\n",
    "    print('Boiler design: ', x[1])\n",
    "    print('CHP design: ', x[2])\n",
    "    \n",
    "    # print scenarios\n",
    "    n_scenarios = int((len(x) - 3) / 3)\n",
    "    for i_scenario in range(1, n_scenarios + 1): \n",
    "            print('Scenario ' + str(i_scenario) + ' PV load: ', x[3 * i_scenario])\n",
    "            print('Scenario ' + str(i_scenario) + ' Boiler load: ', x[3 * i_scenario + 1])\n",
    "            print('Scenario ' + str(i_scenario) + ' CHP load: ', x[3 * i_scenario + 2], end='\\n\\n')\n",
    "    "
   ]
  },
  {
   "cell_type": "code",
   "execution_count": null,
   "metadata": {},
   "outputs": [],
   "source": [
    "# nominal case\n",
    "scenario1 = {\"p\": 1.0, \"solar\":1.0, \"elec\": 100}\n",
    "scenarios = [scenario1] # base scenario\n"
   ]
  },
  {
   "cell_type": "code",
   "execution_count": null,
   "metadata": {},
   "outputs": [],
   "source": [
    "# now consider different scenarios\n",
    "myPV = PV()\n",
    "myBoiler = Boiler()\n",
    "myCHP = CHP()\n",
    "cons = lambda x: constraint_function(x, myPV, myBoiler, myCHP, scenarios)\n",
    "obj = lambda x: objective_function(x, myPV, myBoiler, myCHP, scenarios)\n",
    "# constraints need bounds\n",
    "# your code here\n",
    "# bounds for operation 0 . 1\n",
    "x_guess = [200,200,200, 1,1,1 ]\n",
    "# bounds for decision variables\n",
    "# your code here\n",
    "bnds = Bounds(lbs, ubs)\n"
   ]
  },
  {
   "cell_type": "code",
   "execution_count": null,
   "metadata": {},
   "outputs": [],
   "source": [
    "res = minimize(obj, x_guess, method = 'SLSQP', bounds=bnds,\n",
    "               constraints = nonlinear_constraints,\n",
    "               options={\"maxiter\": 25, 'iprint': 2, 'disp': True})\n"
   ]
  },
  {
   "cell_type": "code",
   "execution_count": null,
   "metadata": {},
   "outputs": [],
   "source": [
    "print_solution(res.x)"
   ]
  },
  {
   "cell_type": "code",
   "execution_count": null,
   "metadata": {},
   "outputs": [],
   "source": [
    "# nominal \n",
    "# uncertanties: power demand and solar power (relative 1.0)\n",
    "scenario1 = {\"p\": 0.4, \"solar\":1.0, \"elec\": 100}\n",
    "scenario2 = {\"p\": 0.3, \"solar\":1.0, \"elec\": 120}\n",
    "scenario3 = {\"p\": 0.3, \"solar\":0.5, \"elec\": 80}\n",
    "\n",
    "# put scenarios together\n",
    "# your code here"
   ]
  },
  {
   "cell_type": "code",
   "execution_count": null,
   "metadata": {},
   "outputs": [],
   "source": [
    "myPV = PV()\n",
    "myBoiler = Boiler()\n",
    "myCHP = CHP()\n",
    "cons = lambda x: constraint_function(x, myPV, myBoiler, myCHP, scenarios)\n",
    "obj = lambda x: objective_function(x, myPV, myBoiler, myCHP, scenarios)\n",
    "# bounds and constraints\n",
    "# your code here\n",
    "\n",
    "\n",
    "res = minimize(obj, x_guess, method = 'SLSQP', bounds=bnds,\n",
    "               constraints = nonlinear_constraints,\n",
    "               options={\"maxiter\": 15, 'iprint': 2, 'disp': True})"
   ]
  },
  {
   "cell_type": "code",
   "execution_count": null,
   "metadata": {},
   "outputs": [],
   "source": [
    "print_solution(res.x)"
   ]
  },
  {
   "cell_type": "code",
   "execution_count": null,
   "metadata": {},
   "outputs": [],
   "source": []
  }
 ],
 "metadata": {
  "kernelspec": {
   "display_name": "Python 3",
   "language": "python",
   "name": "python3"
  },
  "language_info": {
   "codemirror_mode": {
    "name": "ipython",
    "version": 3
   },
   "file_extension": ".py",
   "mimetype": "text/x-python",
   "name": "python",
   "nbconvert_exporter": "python",
   "pygments_lexer": "ipython3",
   "version": "3.6.8"
  }
 },
 "nbformat": 4,
 "nbformat_minor": 5
}
