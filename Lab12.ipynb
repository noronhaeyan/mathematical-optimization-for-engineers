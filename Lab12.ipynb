{
 "cells": [
  {
   "cell_type": "markdown",
   "metadata": {},
   "source": [
    "<div>\n",
    "<img src=\"figures/svtLogo.png\"/>\n",
    "</div>\n",
    "<h1><center>Mathematical Optimization for Engineers</center></h1>\n",
    "<h2><center>Lab 12 - Direct single shooting</center></h2>"
   ]
  },
  {
   "cell_type": "markdown",
   "metadata": {},
   "source": [
    "$\\newcommand{\\ddt}[1]{\\frac{d#1}{dt}\\Bigr \\rvert_{t}}$\n",
    "In this exercise, we want to solve the van der Pol oscillator optimal control problem using the direct single shooting approach. \n",
    "The problem without state constraints is as follows: \n",
    "$\\begin{align}\n",
    "\\min_{u(t)} \\int_{t_{0}}^{t_{f}} &x_1^2(t) + x_2^{2}(t) + u(t)^2 dt\\\\\n",
    "s.t.  \\ddt{x_1} &= x_2(t),\\quad t\\in [t_0,t_f] \\label{eq:vdp_a} \\\\\n",
    "\\ddt{x_2}&= (1-(x_1(t))^2)\\cdot x_2(t) - x_1(t) + u(t),\\quad t\\in [t_0,t_f], \\label{eq:vdp_b} \\\\\n",
    "\\ddt{x_3} &= ({x_1}(t))^2 + ({x_2}(t))^2+ (u(t))^2 \\quad t\\in [t_0,t_f] \\\\\n",
    "\\mathbf{x}(t_{0}) &= \\left[0.0, 1.0, 0.0 \\right]^{T} \\\\\n",
    "-0.3 &\\leq u(t) \\leq 1.0 \\quad \\forall t \\in [t_{0},t_{f}]\\\\\n",
    "\\end{align}\n",
    "$\n",
    "Note that the objective function value can be determined from the value of the state $x_{3}$ and that $t_{f}=5$.\n",
    "For direct single shooting, the differential equations are solved by an integration scheme, which is needed to be set-up. \n"
   ]
  },
  {
   "cell_type": "code",
   "execution_count": null,
   "metadata": {},
   "outputs": [],
   "source": [
    "import numpy as np\n",
    "\n",
    "from scipy.integrate import odeint, solve_ivp\n",
    "\n",
    "from scipy.optimize import fmin,fmin_bfgs, Bounds, minimize, NonlinearConstraint\n",
    "\n",
    "from matplotlib import pyplot as plt\n",
    "from matplotlib import animation"
   ]
  },
  {
   "cell_type": "code",
   "execution_count": null,
   "metadata": {},
   "outputs": [],
   "source": [
    "def eval_rhs(t, x, u, p):\n",
    "    \n",
    "    # your code\n",
    "\n",
    "    \n",
    "    return f"
   ]
  },
  {
   "cell_type": "code",
   "execution_count": null,
   "metadata": {},
   "outputs": [],
   "source": [
    "def objective_ode_integration(p, func, x0, finalTime, output_state,\n",
    "                              is_path_constraint, doPlot):\n",
    "    # inputs are as follows\n",
    "    # p = parameter vector of control discretization\n",
    "    # func: right-hand side of ODE f(t, x, u, p)\n",
    "    # x0 = initial condition\n",
    "    # finalTime = tN\n",
    "    # doPlot = boolean variable, if true, plot solution   \n",
    "\n",
    "    N = len(p) # Number of discretization intervals\n",
    "    h = finalTime /N # length of a single interval\n",
    "    n_x = len(x0)  # number of states\n",
    "    x0_cur = x0\n",
    "    y_all = np.array([x0]).transpose() \n",
    "    t_all = np.array([0])\n",
    "    output = list()\n",
    "\n",
    "    for i in range(N): # loop over discretization intervals\n",
    "        \n",
    "        # solve initial value problem\n",
    "        # your code\n",
    "        \n",
    "        # update initial conditions\n",
    "        # your code\n",
    "\n",
    "        y_all = np.concatenate((y_all, sol.y), axis=1)\n",
    "        t_all = np.concatenate((t_all, sol.t), axis=0)\n",
    "        output.append(y[output_state, -1])\n",
    "\n",
    "\n",
    "\n",
    "    if doPlot:\n",
    "        y_all = np.array(y_all)\n",
    "        plt.subplot(221)\n",
    "        plt.plot(t_all, y_all[0, :])\n",
    "        plt.title('x1')\n",
    "\n",
    "        plt.subplot(222)\n",
    "        plt.plot(t_all, y_all[1, :])\n",
    "        plt.title('x2')\n",
    "\n",
    "        plt.subplot(223)\n",
    "        plt.plot(t_all, y_all[2, :])\n",
    "        plt.title('x3')\n",
    "        #\n",
    "        plt.subplot(224)\n",
    "        plt.plot(np.linspace(0, finalTime, N), p)\n",
    "        plt.title('u')\n",
    "\n",
    "        plt.tight_layout()\n",
    "        plt.show()\n",
    "        \n",
    "    if not is_path_constraint: \n",
    "        output = output[-1]\n",
    "    else:\n",
    "        # constraint hard coded here to allow for \n",
    "        # constraint definition with arguments\n",
    "        # in scipy, c(x) >= 0\n",
    "        # your code here\n",
    "\n",
    "    return output"
   ]
  },
  {
   "cell_type": "code",
   "execution_count": null,
   "metadata": {},
   "outputs": [],
   "source": [
    "objective_ode_integration([1.0, 0.5, 0.2, 0.4], eval_rhs, [0, 1, 0], 5, [], [], True)"
   ]
  },
  {
   "cell_type": "code",
   "execution_count": null,
   "metadata": {},
   "outputs": [],
   "source": [
    "finalTime = 5\n",
    "N = 25 # Number of discretization intervals for the control\n",
    "doPlot = False\n",
    "p0 = 1.0*np.ones(N) # initial guess for optimization\n",
    "x0 = [0, 1, 0]\n",
    "\n",
    "bnds = Bounds(-0.3, 1.0)\n",
    "\n",
    "# define objective\n",
    "output_state = 2  # for objective\n",
    "is_path_constraint = False\n",
    "# call optimization with arguments \n",
    "# 'eval_rhs, x0, finalTime, output_state, is_path_constraint, doPlot'\n",
    "# your code here\n",
    "\n",
    "# call ODE integration to plot trajectories with optimal solution of controls\n",
    "# your code here\n"
   ]
  },
  {
   "cell_type": "markdown",
   "metadata": {},
   "source": [
    "## Adding state path constraint\n",
    "After solvindg the problem without state constraints, we want to include the path constraint on the state $x_1$:\n",
    "$ \\begin{align}\n",
    "x_1(t) \\geq - 0.4 \\forall t \\in [t_{0},t_{f}]\n",
    "\\end{align}$\n",
    "For this task, we must add this constraint to the optimization problem. One way is to define the constraint function as constraint dictionary in Python. "
   ]
  },
  {
   "cell_type": "code",
   "execution_count": null,
   "metadata": {},
   "outputs": [],
   "source": [
    "# in scipy, the inequality constraints are defined as\n",
    "# c(x) >= 0 \n",
    "cons = ({'type': 'ineq',\n",
    "       'fun': objective_ode_integration,\n",
    "       'args': (eval_rhs, x0, finalTime, 0, True, False)       \n",
    "       })\n",
    "\n",
    "output_state = 2  # for objective\n",
    "is_path_constraint = False\n",
    "\n",
    "# call optimization with arguments \n",
    "# 'eval_rhs, x0, finalTime, output_state, is_path_constraint, doPlot'\n",
    "# your code here\n",
    "\n",
    "\n",
    "# call ODE integration to plot trajectories with optimal solution of controls\n",
    "# your code here"
   ]
  },
  {
   "cell_type": "markdown",
   "metadata": {},
   "source": [
    "## What could be made more efficient for this optimization? "
   ]
  },
  {
   "cell_type": "code",
   "execution_count": null,
   "metadata": {},
   "outputs": [],
   "source": []
  }
 ],
 "metadata": {
  "kernelspec": {
   "display_name": "Python 3",
   "language": "python",
   "name": "python3"
  },
  "language_info": {
   "codemirror_mode": {
    "name": "ipython",
    "version": 3
   },
   "file_extension": ".py",
   "mimetype": "text/x-python",
   "name": "python",
   "nbconvert_exporter": "python",
   "pygments_lexer": "ipython3",
   "version": "3.6.8"
  }
 },
 "nbformat": 4,
 "nbformat_minor": 5
}
